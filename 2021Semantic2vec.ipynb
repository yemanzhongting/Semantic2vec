{
  "nbformat": 4,
  "nbformat_minor": 0,
  "metadata": {
    "colab": {
      "name": "2021Semantic2vec.ipynb",
      "provenance": [],
      "collapsed_sections": [],
      "toc_visible": true
    },
    "kernelspec": {
      "name": "python3",
      "display_name": "Python 3"
    },
    "widgets": {
      "application/vnd.jupyter.widget-state+json": {
        "9aca87cecfc34f5db4dea22ef18377db": {
          "model_module": "@jupyter-widgets/controls",
          "model_name": "HBoxModel",
          "state": {
            "_view_name": "HBoxView",
            "_dom_classes": [],
            "_model_name": "HBoxModel",
            "_view_module": "@jupyter-widgets/controls",
            "_model_module_version": "1.5.0",
            "_view_count": null,
            "_view_module_version": "1.5.0",
            "box_style": "",
            "layout": "IPY_MODEL_2f37dc6e63284991afbb51a7ae620632",
            "_model_module": "@jupyter-widgets/controls",
            "children": [
              "IPY_MODEL_641a3a4e3c064a1fb6020db3cd1bab58",
              "IPY_MODEL_8cf5259982484c49913b1032f1e5944b"
            ]
          }
        },
        "2f37dc6e63284991afbb51a7ae620632": {
          "model_module": "@jupyter-widgets/base",
          "model_name": "LayoutModel",
          "state": {
            "_view_name": "LayoutView",
            "grid_template_rows": null,
            "right": null,
            "justify_content": null,
            "_view_module": "@jupyter-widgets/base",
            "overflow": null,
            "_model_module_version": "1.2.0",
            "_view_count": null,
            "flex_flow": null,
            "width": null,
            "min_width": null,
            "border": null,
            "align_items": null,
            "bottom": null,
            "_model_module": "@jupyter-widgets/base",
            "top": null,
            "grid_column": null,
            "overflow_y": null,
            "overflow_x": null,
            "grid_auto_flow": null,
            "grid_area": null,
            "grid_template_columns": null,
            "flex": null,
            "_model_name": "LayoutModel",
            "justify_items": null,
            "grid_row": null,
            "max_height": null,
            "align_content": null,
            "visibility": null,
            "align_self": null,
            "height": null,
            "min_height": null,
            "padding": null,
            "grid_auto_rows": null,
            "grid_gap": null,
            "max_width": null,
            "order": null,
            "_view_module_version": "1.2.0",
            "grid_template_areas": null,
            "object_position": null,
            "object_fit": null,
            "grid_auto_columns": null,
            "margin": null,
            "display": null,
            "left": null
          }
        },
        "641a3a4e3c064a1fb6020db3cd1bab58": {
          "model_module": "@jupyter-widgets/controls",
          "model_name": "FloatProgressModel",
          "state": {
            "_view_name": "ProgressView",
            "style": "IPY_MODEL_3baad3af1f324ebb8eee510a605130e6",
            "_dom_classes": [],
            "description": "Downloading: 100%",
            "_model_name": "FloatProgressModel",
            "bar_style": "success",
            "max": 624,
            "_view_module": "@jupyter-widgets/controls",
            "_model_module_version": "1.5.0",
            "value": 624,
            "_view_count": null,
            "_view_module_version": "1.5.0",
            "orientation": "horizontal",
            "min": 0,
            "description_tooltip": null,
            "_model_module": "@jupyter-widgets/controls",
            "layout": "IPY_MODEL_7a70be2dbdde44ae92227ca0b6831ff9"
          }
        },
        "8cf5259982484c49913b1032f1e5944b": {
          "model_module": "@jupyter-widgets/controls",
          "model_name": "HTMLModel",
          "state": {
            "_view_name": "HTMLView",
            "style": "IPY_MODEL_91db53b832c1460f95e0e4c307c87a1b",
            "_dom_classes": [],
            "description": "",
            "_model_name": "HTMLModel",
            "placeholder": "​",
            "_view_module": "@jupyter-widgets/controls",
            "_model_module_version": "1.5.0",
            "value": " 624/624 [00:14&lt;00:00, 43.8B/s]",
            "_view_count": null,
            "_view_module_version": "1.5.0",
            "description_tooltip": null,
            "_model_module": "@jupyter-widgets/controls",
            "layout": "IPY_MODEL_d216c6e808584b37a1456954f8eb4052"
          }
        },
        "3baad3af1f324ebb8eee510a605130e6": {
          "model_module": "@jupyter-widgets/controls",
          "model_name": "ProgressStyleModel",
          "state": {
            "_view_name": "StyleView",
            "_model_name": "ProgressStyleModel",
            "description_width": "initial",
            "_view_module": "@jupyter-widgets/base",
            "_model_module_version": "1.5.0",
            "_view_count": null,
            "_view_module_version": "1.2.0",
            "bar_color": null,
            "_model_module": "@jupyter-widgets/controls"
          }
        },
        "7a70be2dbdde44ae92227ca0b6831ff9": {
          "model_module": "@jupyter-widgets/base",
          "model_name": "LayoutModel",
          "state": {
            "_view_name": "LayoutView",
            "grid_template_rows": null,
            "right": null,
            "justify_content": null,
            "_view_module": "@jupyter-widgets/base",
            "overflow": null,
            "_model_module_version": "1.2.0",
            "_view_count": null,
            "flex_flow": null,
            "width": null,
            "min_width": null,
            "border": null,
            "align_items": null,
            "bottom": null,
            "_model_module": "@jupyter-widgets/base",
            "top": null,
            "grid_column": null,
            "overflow_y": null,
            "overflow_x": null,
            "grid_auto_flow": null,
            "grid_area": null,
            "grid_template_columns": null,
            "flex": null,
            "_model_name": "LayoutModel",
            "justify_items": null,
            "grid_row": null,
            "max_height": null,
            "align_content": null,
            "visibility": null,
            "align_self": null,
            "height": null,
            "min_height": null,
            "padding": null,
            "grid_auto_rows": null,
            "grid_gap": null,
            "max_width": null,
            "order": null,
            "_view_module_version": "1.2.0",
            "grid_template_areas": null,
            "object_position": null,
            "object_fit": null,
            "grid_auto_columns": null,
            "margin": null,
            "display": null,
            "left": null
          }
        },
        "91db53b832c1460f95e0e4c307c87a1b": {
          "model_module": "@jupyter-widgets/controls",
          "model_name": "DescriptionStyleModel",
          "state": {
            "_view_name": "StyleView",
            "_model_name": "DescriptionStyleModel",
            "description_width": "",
            "_view_module": "@jupyter-widgets/base",
            "_model_module_version": "1.5.0",
            "_view_count": null,
            "_view_module_version": "1.2.0",
            "_model_module": "@jupyter-widgets/controls"
          }
        },
        "d216c6e808584b37a1456954f8eb4052": {
          "model_module": "@jupyter-widgets/base",
          "model_name": "LayoutModel",
          "state": {
            "_view_name": "LayoutView",
            "grid_template_rows": null,
            "right": null,
            "justify_content": null,
            "_view_module": "@jupyter-widgets/base",
            "overflow": null,
            "_model_module_version": "1.2.0",
            "_view_count": null,
            "flex_flow": null,
            "width": null,
            "min_width": null,
            "border": null,
            "align_items": null,
            "bottom": null,
            "_model_module": "@jupyter-widgets/base",
            "top": null,
            "grid_column": null,
            "overflow_y": null,
            "overflow_x": null,
            "grid_auto_flow": null,
            "grid_area": null,
            "grid_template_columns": null,
            "flex": null,
            "_model_name": "LayoutModel",
            "justify_items": null,
            "grid_row": null,
            "max_height": null,
            "align_content": null,
            "visibility": null,
            "align_self": null,
            "height": null,
            "min_height": null,
            "padding": null,
            "grid_auto_rows": null,
            "grid_gap": null,
            "max_width": null,
            "order": null,
            "_view_module_version": "1.2.0",
            "grid_template_areas": null,
            "object_position": null,
            "object_fit": null,
            "grid_auto_columns": null,
            "margin": null,
            "display": null,
            "left": null
          }
        },
        "2a465241355e492d8c13443ea1ffe8c8": {
          "model_module": "@jupyter-widgets/controls",
          "model_name": "HBoxModel",
          "state": {
            "_view_name": "HBoxView",
            "_dom_classes": [],
            "_model_name": "HBoxModel",
            "_view_module": "@jupyter-widgets/controls",
            "_model_module_version": "1.5.0",
            "_view_count": null,
            "_view_module_version": "1.5.0",
            "box_style": "",
            "layout": "IPY_MODEL_fd1e8a0f84b84e6685bf645fd410b1fe",
            "_model_module": "@jupyter-widgets/controls",
            "children": [
              "IPY_MODEL_975c5b803c9141208263eafba5953d44",
              "IPY_MODEL_9cebe8fd5d0548a2a79748385ca52508"
            ]
          }
        },
        "fd1e8a0f84b84e6685bf645fd410b1fe": {
          "model_module": "@jupyter-widgets/base",
          "model_name": "LayoutModel",
          "state": {
            "_view_name": "LayoutView",
            "grid_template_rows": null,
            "right": null,
            "justify_content": null,
            "_view_module": "@jupyter-widgets/base",
            "overflow": null,
            "_model_module_version": "1.2.0",
            "_view_count": null,
            "flex_flow": null,
            "width": null,
            "min_width": null,
            "border": null,
            "align_items": null,
            "bottom": null,
            "_model_module": "@jupyter-widgets/base",
            "top": null,
            "grid_column": null,
            "overflow_y": null,
            "overflow_x": null,
            "grid_auto_flow": null,
            "grid_area": null,
            "grid_template_columns": null,
            "flex": null,
            "_model_name": "LayoutModel",
            "justify_items": null,
            "grid_row": null,
            "max_height": null,
            "align_content": null,
            "visibility": null,
            "align_self": null,
            "height": null,
            "min_height": null,
            "padding": null,
            "grid_auto_rows": null,
            "grid_gap": null,
            "max_width": null,
            "order": null,
            "_view_module_version": "1.2.0",
            "grid_template_areas": null,
            "object_position": null,
            "object_fit": null,
            "grid_auto_columns": null,
            "margin": null,
            "display": null,
            "left": null
          }
        },
        "975c5b803c9141208263eafba5953d44": {
          "model_module": "@jupyter-widgets/controls",
          "model_name": "FloatProgressModel",
          "state": {
            "_view_name": "ProgressView",
            "style": "IPY_MODEL_37b53882d1ed40aa9cb60641a2d0a872",
            "_dom_classes": [],
            "description": "Downloading: 100%",
            "_model_name": "FloatProgressModel",
            "bar_style": "success",
            "max": 411577189,
            "_view_module": "@jupyter-widgets/controls",
            "_model_module_version": "1.5.0",
            "value": 411577189,
            "_view_count": null,
            "_view_module_version": "1.5.0",
            "orientation": "horizontal",
            "min": 0,
            "description_tooltip": null,
            "_model_module": "@jupyter-widgets/controls",
            "layout": "IPY_MODEL_2b4c69473b7c41f0978637e7287a3716"
          }
        },
        "9cebe8fd5d0548a2a79748385ca52508": {
          "model_module": "@jupyter-widgets/controls",
          "model_name": "HTMLModel",
          "state": {
            "_view_name": "HTMLView",
            "style": "IPY_MODEL_6d446bfa78f44f0880a41152d026d2f0",
            "_dom_classes": [],
            "description": "",
            "_model_name": "HTMLModel",
            "placeholder": "​",
            "_view_module": "@jupyter-widgets/controls",
            "_model_module_version": "1.5.0",
            "value": " 412M/412M [00:13&lt;00:00, 29.8MB/s]",
            "_view_count": null,
            "_view_module_version": "1.5.0",
            "description_tooltip": null,
            "_model_module": "@jupyter-widgets/controls",
            "layout": "IPY_MODEL_8aafb4e777ce40c99928a90844d26e5b"
          }
        },
        "37b53882d1ed40aa9cb60641a2d0a872": {
          "model_module": "@jupyter-widgets/controls",
          "model_name": "ProgressStyleModel",
          "state": {
            "_view_name": "StyleView",
            "_model_name": "ProgressStyleModel",
            "description_width": "initial",
            "_view_module": "@jupyter-widgets/base",
            "_model_module_version": "1.5.0",
            "_view_count": null,
            "_view_module_version": "1.2.0",
            "bar_color": null,
            "_model_module": "@jupyter-widgets/controls"
          }
        },
        "2b4c69473b7c41f0978637e7287a3716": {
          "model_module": "@jupyter-widgets/base",
          "model_name": "LayoutModel",
          "state": {
            "_view_name": "LayoutView",
            "grid_template_rows": null,
            "right": null,
            "justify_content": null,
            "_view_module": "@jupyter-widgets/base",
            "overflow": null,
            "_model_module_version": "1.2.0",
            "_view_count": null,
            "flex_flow": null,
            "width": null,
            "min_width": null,
            "border": null,
            "align_items": null,
            "bottom": null,
            "_model_module": "@jupyter-widgets/base",
            "top": null,
            "grid_column": null,
            "overflow_y": null,
            "overflow_x": null,
            "grid_auto_flow": null,
            "grid_area": null,
            "grid_template_columns": null,
            "flex": null,
            "_model_name": "LayoutModel",
            "justify_items": null,
            "grid_row": null,
            "max_height": null,
            "align_content": null,
            "visibility": null,
            "align_self": null,
            "height": null,
            "min_height": null,
            "padding": null,
            "grid_auto_rows": null,
            "grid_gap": null,
            "max_width": null,
            "order": null,
            "_view_module_version": "1.2.0",
            "grid_template_areas": null,
            "object_position": null,
            "object_fit": null,
            "grid_auto_columns": null,
            "margin": null,
            "display": null,
            "left": null
          }
        },
        "6d446bfa78f44f0880a41152d026d2f0": {
          "model_module": "@jupyter-widgets/controls",
          "model_name": "DescriptionStyleModel",
          "state": {
            "_view_name": "StyleView",
            "_model_name": "DescriptionStyleModel",
            "description_width": "",
            "_view_module": "@jupyter-widgets/base",
            "_model_module_version": "1.5.0",
            "_view_count": null,
            "_view_module_version": "1.2.0",
            "_model_module": "@jupyter-widgets/controls"
          }
        },
        "8aafb4e777ce40c99928a90844d26e5b": {
          "model_module": "@jupyter-widgets/base",
          "model_name": "LayoutModel",
          "state": {
            "_view_name": "LayoutView",
            "grid_template_rows": null,
            "right": null,
            "justify_content": null,
            "_view_module": "@jupyter-widgets/base",
            "overflow": null,
            "_model_module_version": "1.2.0",
            "_view_count": null,
            "flex_flow": null,
            "width": null,
            "min_width": null,
            "border": null,
            "align_items": null,
            "bottom": null,
            "_model_module": "@jupyter-widgets/base",
            "top": null,
            "grid_column": null,
            "overflow_y": null,
            "overflow_x": null,
            "grid_auto_flow": null,
            "grid_area": null,
            "grid_template_columns": null,
            "flex": null,
            "_model_name": "LayoutModel",
            "justify_items": null,
            "grid_row": null,
            "max_height": null,
            "align_content": null,
            "visibility": null,
            "align_self": null,
            "height": null,
            "min_height": null,
            "padding": null,
            "grid_auto_rows": null,
            "grid_gap": null,
            "max_width": null,
            "order": null,
            "_view_module_version": "1.2.0",
            "grid_template_areas": null,
            "object_position": null,
            "object_fit": null,
            "grid_auto_columns": null,
            "margin": null,
            "display": null,
            "left": null
          }
        },
        "ea402d0834374d8bb8a1df4a9e2a744f": {
          "model_module": "@jupyter-widgets/controls",
          "model_name": "HBoxModel",
          "state": {
            "_view_name": "HBoxView",
            "_dom_classes": [],
            "_model_name": "HBoxModel",
            "_view_module": "@jupyter-widgets/controls",
            "_model_module_version": "1.5.0",
            "_view_count": null,
            "_view_module_version": "1.5.0",
            "box_style": "",
            "layout": "IPY_MODEL_0062713603464a99b0923b774406476e",
            "_model_module": "@jupyter-widgets/controls",
            "children": [
              "IPY_MODEL_9e5dcb56353c4ff294a36802262f169c",
              "IPY_MODEL_99c4996bff7a4e3ab05471df5c74bc7a"
            ]
          }
        },
        "0062713603464a99b0923b774406476e": {
          "model_module": "@jupyter-widgets/base",
          "model_name": "LayoutModel",
          "state": {
            "_view_name": "LayoutView",
            "grid_template_rows": null,
            "right": null,
            "justify_content": null,
            "_view_module": "@jupyter-widgets/base",
            "overflow": null,
            "_model_module_version": "1.2.0",
            "_view_count": null,
            "flex_flow": null,
            "width": null,
            "min_width": null,
            "border": null,
            "align_items": null,
            "bottom": null,
            "_model_module": "@jupyter-widgets/base",
            "top": null,
            "grid_column": null,
            "overflow_y": null,
            "overflow_x": null,
            "grid_auto_flow": null,
            "grid_area": null,
            "grid_template_columns": null,
            "flex": null,
            "_model_name": "LayoutModel",
            "justify_items": null,
            "grid_row": null,
            "max_height": null,
            "align_content": null,
            "visibility": null,
            "align_self": null,
            "height": null,
            "min_height": null,
            "padding": null,
            "grid_auto_rows": null,
            "grid_gap": null,
            "max_width": null,
            "order": null,
            "_view_module_version": "1.2.0",
            "grid_template_areas": null,
            "object_position": null,
            "object_fit": null,
            "grid_auto_columns": null,
            "margin": null,
            "display": null,
            "left": null
          }
        },
        "9e5dcb56353c4ff294a36802262f169c": {
          "model_module": "@jupyter-widgets/controls",
          "model_name": "FloatProgressModel",
          "state": {
            "_view_name": "ProgressView",
            "style": "IPY_MODEL_2d6cab19c4424915906832df9ab6683f",
            "_dom_classes": [],
            "description": "Downloading: 100%",
            "_model_name": "FloatProgressModel",
            "bar_style": "success",
            "max": 109540,
            "_view_module": "@jupyter-widgets/controls",
            "_model_module_version": "1.5.0",
            "value": 109540,
            "_view_count": null,
            "_view_module_version": "1.5.0",
            "orientation": "horizontal",
            "min": 0,
            "description_tooltip": null,
            "_model_module": "@jupyter-widgets/controls",
            "layout": "IPY_MODEL_aa5f92b1ddf94b218b4a23b744f9706e"
          }
        },
        "99c4996bff7a4e3ab05471df5c74bc7a": {
          "model_module": "@jupyter-widgets/controls",
          "model_name": "HTMLModel",
          "state": {
            "_view_name": "HTMLView",
            "style": "IPY_MODEL_9931a27f9a3e4a69b075857e352b3d75",
            "_dom_classes": [],
            "description": "",
            "_model_name": "HTMLModel",
            "placeholder": "​",
            "_view_module": "@jupyter-widgets/controls",
            "_model_module_version": "1.5.0",
            "value": " 110k/110k [00:15&lt;00:00, 7.16kB/s]",
            "_view_count": null,
            "_view_module_version": "1.5.0",
            "description_tooltip": null,
            "_model_module": "@jupyter-widgets/controls",
            "layout": "IPY_MODEL_455a5a774a1a4aa482883077bb2cae59"
          }
        },
        "2d6cab19c4424915906832df9ab6683f": {
          "model_module": "@jupyter-widgets/controls",
          "model_name": "ProgressStyleModel",
          "state": {
            "_view_name": "StyleView",
            "_model_name": "ProgressStyleModel",
            "description_width": "initial",
            "_view_module": "@jupyter-widgets/base",
            "_model_module_version": "1.5.0",
            "_view_count": null,
            "_view_module_version": "1.2.0",
            "bar_color": null,
            "_model_module": "@jupyter-widgets/controls"
          }
        },
        "aa5f92b1ddf94b218b4a23b744f9706e": {
          "model_module": "@jupyter-widgets/base",
          "model_name": "LayoutModel",
          "state": {
            "_view_name": "LayoutView",
            "grid_template_rows": null,
            "right": null,
            "justify_content": null,
            "_view_module": "@jupyter-widgets/base",
            "overflow": null,
            "_model_module_version": "1.2.0",
            "_view_count": null,
            "flex_flow": null,
            "width": null,
            "min_width": null,
            "border": null,
            "align_items": null,
            "bottom": null,
            "_model_module": "@jupyter-widgets/base",
            "top": null,
            "grid_column": null,
            "overflow_y": null,
            "overflow_x": null,
            "grid_auto_flow": null,
            "grid_area": null,
            "grid_template_columns": null,
            "flex": null,
            "_model_name": "LayoutModel",
            "justify_items": null,
            "grid_row": null,
            "max_height": null,
            "align_content": null,
            "visibility": null,
            "align_self": null,
            "height": null,
            "min_height": null,
            "padding": null,
            "grid_auto_rows": null,
            "grid_gap": null,
            "max_width": null,
            "order": null,
            "_view_module_version": "1.2.0",
            "grid_template_areas": null,
            "object_position": null,
            "object_fit": null,
            "grid_auto_columns": null,
            "margin": null,
            "display": null,
            "left": null
          }
        },
        "9931a27f9a3e4a69b075857e352b3d75": {
          "model_module": "@jupyter-widgets/controls",
          "model_name": "DescriptionStyleModel",
          "state": {
            "_view_name": "StyleView",
            "_model_name": "DescriptionStyleModel",
            "description_width": "",
            "_view_module": "@jupyter-widgets/base",
            "_model_module_version": "1.5.0",
            "_view_count": null,
            "_view_module_version": "1.2.0",
            "_model_module": "@jupyter-widgets/controls"
          }
        },
        "455a5a774a1a4aa482883077bb2cae59": {
          "model_module": "@jupyter-widgets/base",
          "model_name": "LayoutModel",
          "state": {
            "_view_name": "LayoutView",
            "grid_template_rows": null,
            "right": null,
            "justify_content": null,
            "_view_module": "@jupyter-widgets/base",
            "overflow": null,
            "_model_module_version": "1.2.0",
            "_view_count": null,
            "flex_flow": null,
            "width": null,
            "min_width": null,
            "border": null,
            "align_items": null,
            "bottom": null,
            "_model_module": "@jupyter-widgets/base",
            "top": null,
            "grid_column": null,
            "overflow_y": null,
            "overflow_x": null,
            "grid_auto_flow": null,
            "grid_area": null,
            "grid_template_columns": null,
            "flex": null,
            "_model_name": "LayoutModel",
            "justify_items": null,
            "grid_row": null,
            "max_height": null,
            "align_content": null,
            "visibility": null,
            "align_self": null,
            "height": null,
            "min_height": null,
            "padding": null,
            "grid_auto_rows": null,
            "grid_gap": null,
            "max_width": null,
            "order": null,
            "_view_module_version": "1.2.0",
            "grid_template_areas": null,
            "object_position": null,
            "object_fit": null,
            "grid_auto_columns": null,
            "margin": null,
            "display": null,
            "left": null
          }
        },
        "aa886878353242b4b1297289a7740095": {
          "model_module": "@jupyter-widgets/controls",
          "model_name": "HBoxModel",
          "state": {
            "_view_name": "HBoxView",
            "_dom_classes": [],
            "_model_name": "HBoxModel",
            "_view_module": "@jupyter-widgets/controls",
            "_model_module_version": "1.5.0",
            "_view_count": null,
            "_view_module_version": "1.5.0",
            "box_style": "",
            "layout": "IPY_MODEL_26ade598ae9040baa880c1fd603d617b",
            "_model_module": "@jupyter-widgets/controls",
            "children": [
              "IPY_MODEL_617b464a6d6c41d4873db9c43e769830",
              "IPY_MODEL_1ba3ffef02004f1e8ba9004d4ae84c90"
            ]
          }
        },
        "26ade598ae9040baa880c1fd603d617b": {
          "model_module": "@jupyter-widgets/base",
          "model_name": "LayoutModel",
          "state": {
            "_view_name": "LayoutView",
            "grid_template_rows": null,
            "right": null,
            "justify_content": null,
            "_view_module": "@jupyter-widgets/base",
            "overflow": null,
            "_model_module_version": "1.2.0",
            "_view_count": null,
            "flex_flow": null,
            "width": null,
            "min_width": null,
            "border": null,
            "align_items": null,
            "bottom": null,
            "_model_module": "@jupyter-widgets/base",
            "top": null,
            "grid_column": null,
            "overflow_y": null,
            "overflow_x": null,
            "grid_auto_flow": null,
            "grid_area": null,
            "grid_template_columns": null,
            "flex": null,
            "_model_name": "LayoutModel",
            "justify_items": null,
            "grid_row": null,
            "max_height": null,
            "align_content": null,
            "visibility": null,
            "align_self": null,
            "height": null,
            "min_height": null,
            "padding": null,
            "grid_auto_rows": null,
            "grid_gap": null,
            "max_width": null,
            "order": null,
            "_view_module_version": "1.2.0",
            "grid_template_areas": null,
            "object_position": null,
            "object_fit": null,
            "grid_auto_columns": null,
            "margin": null,
            "display": null,
            "left": null
          }
        },
        "617b464a6d6c41d4873db9c43e769830": {
          "model_module": "@jupyter-widgets/controls",
          "model_name": "FloatProgressModel",
          "state": {
            "_view_name": "ProgressView",
            "style": "IPY_MODEL_9432630866e2429986eb583fb59852ec",
            "_dom_classes": [],
            "description": "Downloading: 100%",
            "_model_name": "FloatProgressModel",
            "bar_style": "success",
            "max": 268943,
            "_view_module": "@jupyter-widgets/controls",
            "_model_module_version": "1.5.0",
            "value": 268943,
            "_view_count": null,
            "_view_module_version": "1.5.0",
            "orientation": "horizontal",
            "min": 0,
            "description_tooltip": null,
            "_model_module": "@jupyter-widgets/controls",
            "layout": "IPY_MODEL_314b0586437e4cd5847ceb2c2229117c"
          }
        },
        "1ba3ffef02004f1e8ba9004d4ae84c90": {
          "model_module": "@jupyter-widgets/controls",
          "model_name": "HTMLModel",
          "state": {
            "_view_name": "HTMLView",
            "style": "IPY_MODEL_a0d96791be2345cf873b161015fbcfab",
            "_dom_classes": [],
            "description": "",
            "_model_name": "HTMLModel",
            "placeholder": "​",
            "_view_module": "@jupyter-widgets/controls",
            "_model_module_version": "1.5.0",
            "value": " 269k/269k [00:14&lt;00:00, 18.3kB/s]",
            "_view_count": null,
            "_view_module_version": "1.5.0",
            "description_tooltip": null,
            "_model_module": "@jupyter-widgets/controls",
            "layout": "IPY_MODEL_be46c006660a4ec5b6d3984302d909d2"
          }
        },
        "9432630866e2429986eb583fb59852ec": {
          "model_module": "@jupyter-widgets/controls",
          "model_name": "ProgressStyleModel",
          "state": {
            "_view_name": "StyleView",
            "_model_name": "ProgressStyleModel",
            "description_width": "initial",
            "_view_module": "@jupyter-widgets/base",
            "_model_module_version": "1.5.0",
            "_view_count": null,
            "_view_module_version": "1.2.0",
            "bar_color": null,
            "_model_module": "@jupyter-widgets/controls"
          }
        },
        "314b0586437e4cd5847ceb2c2229117c": {
          "model_module": "@jupyter-widgets/base",
          "model_name": "LayoutModel",
          "state": {
            "_view_name": "LayoutView",
            "grid_template_rows": null,
            "right": null,
            "justify_content": null,
            "_view_module": "@jupyter-widgets/base",
            "overflow": null,
            "_model_module_version": "1.2.0",
            "_view_count": null,
            "flex_flow": null,
            "width": null,
            "min_width": null,
            "border": null,
            "align_items": null,
            "bottom": null,
            "_model_module": "@jupyter-widgets/base",
            "top": null,
            "grid_column": null,
            "overflow_y": null,
            "overflow_x": null,
            "grid_auto_flow": null,
            "grid_area": null,
            "grid_template_columns": null,
            "flex": null,
            "_model_name": "LayoutModel",
            "justify_items": null,
            "grid_row": null,
            "max_height": null,
            "align_content": null,
            "visibility": null,
            "align_self": null,
            "height": null,
            "min_height": null,
            "padding": null,
            "grid_auto_rows": null,
            "grid_gap": null,
            "max_width": null,
            "order": null,
            "_view_module_version": "1.2.0",
            "grid_template_areas": null,
            "object_position": null,
            "object_fit": null,
            "grid_auto_columns": null,
            "margin": null,
            "display": null,
            "left": null
          }
        },
        "a0d96791be2345cf873b161015fbcfab": {
          "model_module": "@jupyter-widgets/controls",
          "model_name": "DescriptionStyleModel",
          "state": {
            "_view_name": "StyleView",
            "_model_name": "DescriptionStyleModel",
            "description_width": "",
            "_view_module": "@jupyter-widgets/base",
            "_model_module_version": "1.5.0",
            "_view_count": null,
            "_view_module_version": "1.2.0",
            "_model_module": "@jupyter-widgets/controls"
          }
        },
        "be46c006660a4ec5b6d3984302d909d2": {
          "model_module": "@jupyter-widgets/base",
          "model_name": "LayoutModel",
          "state": {
            "_view_name": "LayoutView",
            "grid_template_rows": null,
            "right": null,
            "justify_content": null,
            "_view_module": "@jupyter-widgets/base",
            "overflow": null,
            "_model_module_version": "1.2.0",
            "_view_count": null,
            "flex_flow": null,
            "width": null,
            "min_width": null,
            "border": null,
            "align_items": null,
            "bottom": null,
            "_model_module": "@jupyter-widgets/base",
            "top": null,
            "grid_column": null,
            "overflow_y": null,
            "overflow_x": null,
            "grid_auto_flow": null,
            "grid_area": null,
            "grid_template_columns": null,
            "flex": null,
            "_model_name": "LayoutModel",
            "justify_items": null,
            "grid_row": null,
            "max_height": null,
            "align_content": null,
            "visibility": null,
            "align_self": null,
            "height": null,
            "min_height": null,
            "padding": null,
            "grid_auto_rows": null,
            "grid_gap": null,
            "max_width": null,
            "order": null,
            "_view_module_version": "1.2.0",
            "grid_template_areas": null,
            "object_position": null,
            "object_fit": null,
            "grid_auto_columns": null,
            "margin": null,
            "display": null,
            "left": null
          }
        },
        "11ee9b815bb04056a5c736c254e109d0": {
          "model_module": "@jupyter-widgets/controls",
          "model_name": "HBoxModel",
          "state": {
            "_view_name": "HBoxView",
            "_dom_classes": [],
            "_model_name": "HBoxModel",
            "_view_module": "@jupyter-widgets/controls",
            "_model_module_version": "1.5.0",
            "_view_count": null,
            "_view_module_version": "1.5.0",
            "box_style": "",
            "layout": "IPY_MODEL_92ac336e87f84254a049e29c052b085c",
            "_model_module": "@jupyter-widgets/controls",
            "children": [
              "IPY_MODEL_c7e0c773c2ea46b89ed9cd1c0075e2c2",
              "IPY_MODEL_3b6551d8d8c64068a82d1d37cb05693e"
            ]
          }
        },
        "92ac336e87f84254a049e29c052b085c": {
          "model_module": "@jupyter-widgets/base",
          "model_name": "LayoutModel",
          "state": {
            "_view_name": "LayoutView",
            "grid_template_rows": null,
            "right": null,
            "justify_content": null,
            "_view_module": "@jupyter-widgets/base",
            "overflow": null,
            "_model_module_version": "1.2.0",
            "_view_count": null,
            "flex_flow": null,
            "width": null,
            "min_width": null,
            "border": null,
            "align_items": null,
            "bottom": null,
            "_model_module": "@jupyter-widgets/base",
            "top": null,
            "grid_column": null,
            "overflow_y": null,
            "overflow_x": null,
            "grid_auto_flow": null,
            "grid_area": null,
            "grid_template_columns": null,
            "flex": null,
            "_model_name": "LayoutModel",
            "justify_items": null,
            "grid_row": null,
            "max_height": null,
            "align_content": null,
            "visibility": null,
            "align_self": null,
            "height": null,
            "min_height": null,
            "padding": null,
            "grid_auto_rows": null,
            "grid_gap": null,
            "max_width": null,
            "order": null,
            "_view_module_version": "1.2.0",
            "grid_template_areas": null,
            "object_position": null,
            "object_fit": null,
            "grid_auto_columns": null,
            "margin": null,
            "display": null,
            "left": null
          }
        },
        "c7e0c773c2ea46b89ed9cd1c0075e2c2": {
          "model_module": "@jupyter-widgets/controls",
          "model_name": "FloatProgressModel",
          "state": {
            "_view_name": "ProgressView",
            "style": "IPY_MODEL_154af707810f4090886c50df8678a13d",
            "_dom_classes": [],
            "description": "Batches: 100%",
            "_model_name": "FloatProgressModel",
            "bar_style": "success",
            "max": 62,
            "_view_module": "@jupyter-widgets/controls",
            "_model_module_version": "1.5.0",
            "value": 62,
            "_view_count": null,
            "_view_module_version": "1.5.0",
            "orientation": "horizontal",
            "min": 0,
            "description_tooltip": null,
            "_model_module": "@jupyter-widgets/controls",
            "layout": "IPY_MODEL_dcb668cc82464018bfdc5d3296023f14"
          }
        },
        "3b6551d8d8c64068a82d1d37cb05693e": {
          "model_module": "@jupyter-widgets/controls",
          "model_name": "HTMLModel",
          "state": {
            "_view_name": "HTMLView",
            "style": "IPY_MODEL_64143e4f049f4be1a239c3d50efe50c2",
            "_dom_classes": [],
            "description": "",
            "_model_name": "HTMLModel",
            "placeholder": "​",
            "_view_module": "@jupyter-widgets/controls",
            "_model_module_version": "1.5.0",
            "value": " 62/62 [01:49&lt;00:00,  1.76s/it]",
            "_view_count": null,
            "_view_module_version": "1.5.0",
            "description_tooltip": null,
            "_model_module": "@jupyter-widgets/controls",
            "layout": "IPY_MODEL_65a193b2a9ba4a05bc647bf16fce90a1"
          }
        },
        "154af707810f4090886c50df8678a13d": {
          "model_module": "@jupyter-widgets/controls",
          "model_name": "ProgressStyleModel",
          "state": {
            "_view_name": "StyleView",
            "_model_name": "ProgressStyleModel",
            "description_width": "initial",
            "_view_module": "@jupyter-widgets/base",
            "_model_module_version": "1.5.0",
            "_view_count": null,
            "_view_module_version": "1.2.0",
            "bar_color": null,
            "_model_module": "@jupyter-widgets/controls"
          }
        },
        "dcb668cc82464018bfdc5d3296023f14": {
          "model_module": "@jupyter-widgets/base",
          "model_name": "LayoutModel",
          "state": {
            "_view_name": "LayoutView",
            "grid_template_rows": null,
            "right": null,
            "justify_content": null,
            "_view_module": "@jupyter-widgets/base",
            "overflow": null,
            "_model_module_version": "1.2.0",
            "_view_count": null,
            "flex_flow": null,
            "width": null,
            "min_width": null,
            "border": null,
            "align_items": null,
            "bottom": null,
            "_model_module": "@jupyter-widgets/base",
            "top": null,
            "grid_column": null,
            "overflow_y": null,
            "overflow_x": null,
            "grid_auto_flow": null,
            "grid_area": null,
            "grid_template_columns": null,
            "flex": null,
            "_model_name": "LayoutModel",
            "justify_items": null,
            "grid_row": null,
            "max_height": null,
            "align_content": null,
            "visibility": null,
            "align_self": null,
            "height": null,
            "min_height": null,
            "padding": null,
            "grid_auto_rows": null,
            "grid_gap": null,
            "max_width": null,
            "order": null,
            "_view_module_version": "1.2.0",
            "grid_template_areas": null,
            "object_position": null,
            "object_fit": null,
            "grid_auto_columns": null,
            "margin": null,
            "display": null,
            "left": null
          }
        },
        "64143e4f049f4be1a239c3d50efe50c2": {
          "model_module": "@jupyter-widgets/controls",
          "model_name": "DescriptionStyleModel",
          "state": {
            "_view_name": "StyleView",
            "_model_name": "DescriptionStyleModel",
            "description_width": "",
            "_view_module": "@jupyter-widgets/base",
            "_model_module_version": "1.5.0",
            "_view_count": null,
            "_view_module_version": "1.2.0",
            "_model_module": "@jupyter-widgets/controls"
          }
        },
        "65a193b2a9ba4a05bc647bf16fce90a1": {
          "model_module": "@jupyter-widgets/base",
          "model_name": "LayoutModel",
          "state": {
            "_view_name": "LayoutView",
            "grid_template_rows": null,
            "right": null,
            "justify_content": null,
            "_view_module": "@jupyter-widgets/base",
            "overflow": null,
            "_model_module_version": "1.2.0",
            "_view_count": null,
            "flex_flow": null,
            "width": null,
            "min_width": null,
            "border": null,
            "align_items": null,
            "bottom": null,
            "_model_module": "@jupyter-widgets/base",
            "top": null,
            "grid_column": null,
            "overflow_y": null,
            "overflow_x": null,
            "grid_auto_flow": null,
            "grid_area": null,
            "grid_template_columns": null,
            "flex": null,
            "_model_name": "LayoutModel",
            "justify_items": null,
            "grid_row": null,
            "max_height": null,
            "align_content": null,
            "visibility": null,
            "align_self": null,
            "height": null,
            "min_height": null,
            "padding": null,
            "grid_auto_rows": null,
            "grid_gap": null,
            "max_width": null,
            "order": null,
            "_view_module_version": "1.2.0",
            "grid_template_areas": null,
            "object_position": null,
            "object_fit": null,
            "grid_auto_columns": null,
            "margin": null,
            "display": null,
            "left": null
          }
        }
      }
    }
  },
  "cells": [
    {
      "cell_type": "code",
      "metadata": {
        "id": "VxmsSkFyys5u"
      },
      "source": [
        "!mkdir -p bert\r\n",
        "!google-drive-ocamlfuse bert"
      ],
      "execution_count": null,
      "outputs": []
    },
    {
      "cell_type": "code",
      "metadata": {
        "id": "XRx9hu7ixEhO",
        "colab": {
          "base_uri": "https://localhost:8080/"
        },
        "outputId": "e1ade7ac-a4b1-4de6-9c82-ba3b3df47c42"
      },
      "source": [
        "!pip install hdbscan"
      ],
      "execution_count": null,
      "outputs": [
        {
          "output_type": "stream",
          "text": [
            "Collecting hdbscan\n",
            "\u001b[?25l  Downloading https://files.pythonhosted.org/packages/22/2f/2423d844072f007a74214c1adc46260e45f034bb1679ccadfbb8a601f647/hdbscan-0.8.26.tar.gz (4.7MB)\n",
            "\u001b[K     |████████████████████████████████| 4.7MB 4.3MB/s \n",
            "\u001b[?25h  Installing build dependencies ... \u001b[?25l\u001b[?25hdone\n",
            "  Getting requirements to build wheel ... \u001b[?25l\u001b[?25hdone\n",
            "    Preparing wheel metadata ... \u001b[?25l\u001b[?25hdone\n",
            "Requirement already satisfied: six in /usr/local/lib/python3.6/dist-packages (from hdbscan) (1.15.0)\n",
            "Requirement already satisfied: joblib in /usr/local/lib/python3.6/dist-packages (from hdbscan) (1.0.0)\n",
            "Requirement already satisfied: numpy>=1.16.0 in /usr/local/lib/python3.6/dist-packages (from hdbscan) (1.19.5)\n",
            "Requirement already satisfied: cython>=0.27 in /usr/local/lib/python3.6/dist-packages (from hdbscan) (0.29.21)\n",
            "Requirement already satisfied: scipy>=0.9 in /usr/local/lib/python3.6/dist-packages (from hdbscan) (1.4.1)\n",
            "Requirement already satisfied: scikit-learn>=0.17 in /usr/local/lib/python3.6/dist-packages (from hdbscan) (0.22.2.post1)\n",
            "Building wheels for collected packages: hdbscan\n",
            "  Building wheel for hdbscan (PEP 517) ... \u001b[?25l\u001b[?25hdone\n",
            "  Created wheel for hdbscan: filename=hdbscan-0.8.26-cp36-cp36m-linux_x86_64.whl size=2301782 sha256=a6bd9c7825978c5666d90a42fb438d75e086cf07381a8657ea54853189ec933f\n",
            "  Stored in directory: /root/.cache/pip/wheels/82/38/41/372f034d8abd271ef7787a681e0a47fc05d472683a7eb088ed\n",
            "Successfully built hdbscan\n",
            "Installing collected packages: hdbscan\n",
            "Successfully installed hdbscan-0.8.26\n"
          ],
          "name": "stdout"
        }
      ]
    },
    {
      "cell_type": "code",
      "metadata": {
        "id": "P5a-QdEeziua"
      },
      "source": [
        "!pip install sentence-transformers"
      ],
      "execution_count": null,
      "outputs": []
    },
    {
      "cell_type": "code",
      "metadata": {
        "colab": {
          "base_uri": "https://localhost:8080/"
        },
        "id": "ZtwyLL7_DgOO",
        "outputId": "a594787a-0895-4c22-93f1-8d6990b6c2bf"
      },
      "source": [
        "import pandas as pd\r\n",
        "df=pd.read_csv('/content/drive/MyDrive/bertword7.csv')\r\n",
        "print(df.head())\r\n",
        "df.shape"
      ],
      "execution_count": null,
      "outputs": [
        {
          "output_type": "stream",
          "text": [
            "                                            CATEGORY  IDS  ...  Topic Doc_ID\n",
            "0  政府及社会团体相关 政府机关相关 生活服务场所 乡镇以下级政府及事业单位 乡镇以下级政府及事...    0  ...      5      0\n",
            "1                                     物流速递 政府及社会团体相关    1  ...     -1      1\n",
            "2  其它农林牧渔基地 物流速递 汽车维修 公司 餐饮相关 餐饮相关 中餐厅 快餐厅 公交车站相关...    2  ...     -1      2\n",
            "3                              路口名 餐饮相关 公证鉴定机构 公司 小学    3  ...     -1      3\n",
            "4                                               餐饮相关    4  ...      6      4\n",
            "\n",
            "[5 rows x 6 columns]\n"
          ],
          "name": "stdout"
        },
        {
          "output_type": "execute_result",
          "data": {
            "text/plain": [
              "(1976, 6)"
            ]
          },
          "metadata": {
            "tags": []
          },
          "execution_count": 6
        }
      ]
    },
    {
      "cell_type": "code",
      "metadata": {
        "colab": {
          "base_uri": "https://localhost:8080/",
          "height": 319
        },
        "id": "x-gb0p9zDxQ9",
        "outputId": "7b3baa12-a954-4267-c6b7-1ea8c2292932"
      },
      "source": [
        "df['count']=1\r\n",
        "df.groupby('Topic').sum()"
      ],
      "execution_count": null,
      "outputs": [
        {
          "output_type": "execute_result",
          "data": {
            "text/html": [
              "<div>\n",
              "<style scoped>\n",
              "    .dataframe tbody tr th:only-of-type {\n",
              "        vertical-align: middle;\n",
              "    }\n",
              "\n",
              "    .dataframe tbody tr th {\n",
              "        vertical-align: top;\n",
              "    }\n",
              "\n",
              "    .dataframe thead th {\n",
              "        text-align: right;\n",
              "    }\n",
              "</style>\n",
              "<table border=\"1\" class=\"dataframe\">\n",
              "  <thead>\n",
              "    <tr style=\"text-align: right;\">\n",
              "      <th></th>\n",
              "      <th>IDS</th>\n",
              "      <th>NUMS</th>\n",
              "      <th>Doc_ID</th>\n",
              "      <th>count</th>\n",
              "    </tr>\n",
              "    <tr>\n",
              "      <th>Topic</th>\n",
              "      <th></th>\n",
              "      <th></th>\n",
              "      <th></th>\n",
              "      <th></th>\n",
              "    </tr>\n",
              "  </thead>\n",
              "  <tbody>\n",
              "    <tr>\n",
              "      <th>-1</th>\n",
              "      <td>844675</td>\n",
              "      <td>256395</td>\n",
              "      <td>844675</td>\n",
              "      <td>848</td>\n",
              "    </tr>\n",
              "    <tr>\n",
              "      <th>0</th>\n",
              "      <td>176621</td>\n",
              "      <td>0</td>\n",
              "      <td>176621</td>\n",
              "      <td>158</td>\n",
              "    </tr>\n",
              "    <tr>\n",
              "      <th>1</th>\n",
              "      <td>110756</td>\n",
              "      <td>8375</td>\n",
              "      <td>110756</td>\n",
              "      <td>123</td>\n",
              "    </tr>\n",
              "    <tr>\n",
              "      <th>2</th>\n",
              "      <td>99039</td>\n",
              "      <td>35702</td>\n",
              "      <td>99039</td>\n",
              "      <td>162</td>\n",
              "    </tr>\n",
              "    <tr>\n",
              "      <th>3</th>\n",
              "      <td>104474</td>\n",
              "      <td>11910</td>\n",
              "      <td>104474</td>\n",
              "      <td>114</td>\n",
              "    </tr>\n",
              "    <tr>\n",
              "      <th>4</th>\n",
              "      <td>294441</td>\n",
              "      <td>134351</td>\n",
              "      <td>294441</td>\n",
              "      <td>242</td>\n",
              "    </tr>\n",
              "    <tr>\n",
              "      <th>5</th>\n",
              "      <td>224539</td>\n",
              "      <td>58726</td>\n",
              "      <td>224539</td>\n",
              "      <td>217</td>\n",
              "    </tr>\n",
              "    <tr>\n",
              "      <th>6</th>\n",
              "      <td>96755</td>\n",
              "      <td>71938</td>\n",
              "      <td>96755</td>\n",
              "      <td>112</td>\n",
              "    </tr>\n",
              "  </tbody>\n",
              "</table>\n",
              "</div>"
            ],
            "text/plain": [
              "          IDS    NUMS  Doc_ID  count\n",
              "Topic                               \n",
              "-1     844675  256395  844675    848\n",
              " 0     176621       0  176621    158\n",
              " 1     110756    8375  110756    123\n",
              " 2      99039   35702   99039    162\n",
              " 3     104474   11910  104474    114\n",
              " 4     294441  134351  294441    242\n",
              " 5     224539   58726  224539    217\n",
              " 6      96755   71938   96755    112"
            ]
          },
          "metadata": {
            "tags": []
          },
          "execution_count": 7
        }
      ]
    },
    {
      "cell_type": "code",
      "metadata": {
        "id": "UaIZ2ZPVUS5v"
      },
      "source": [
        "Doc=df['Doc_ID'].values.tolist()#0开始"
      ],
      "execution_count": null,
      "outputs": []
    },
    {
      "cell_type": "code",
      "metadata": {
        "id": "XQtxz-9qFJdw"
      },
      "source": [
        "import numpy as np\r\n",
        "embeddings=np.load('/content/drive/MyDrive/1976embeddings.npy')"
      ],
      "execution_count": null,
      "outputs": []
    },
    {
      "cell_type": "code",
      "metadata": {
        "id": "XAcL9Nx9Mt06"
      },
      "source": [
        "import pandas as pd\r\n",
        "df_em = pd.DataFrame(embeddings)"
      ],
      "execution_count": null,
      "outputs": []
    },
    {
      "cell_type": "code",
      "metadata": {
        "colab": {
          "base_uri": "https://localhost:8080/"
        },
        "id": "8Q_6_6mGHCD-",
        "outputId": "f1b9bbd5-928c-479f-f1eb-141b02e1e473"
      },
      "source": [
        "len(embeddings[0])"
      ],
      "execution_count": null,
      "outputs": [
        {
          "output_type": "execute_result",
          "data": {
            "text/plain": [
              "768"
            ]
          },
          "metadata": {
            "tags": []
          },
          "execution_count": 4
        }
      ]
    },
    {
      "cell_type": "code",
      "metadata": {
        "colab": {
          "base_uri": "https://localhost:8080/",
          "height": 247
        },
        "id": "4hjgmD1XNBoK",
        "outputId": "4c2211f7-8b8e-4de4-8dcd-3c7a5fd2a9cc"
      },
      "source": [
        "df_em.head()"
      ],
      "execution_count": null,
      "outputs": [
        {
          "output_type": "execute_result",
          "data": {
            "text/html": [
              "<div>\n",
              "<style scoped>\n",
              "    .dataframe tbody tr th:only-of-type {\n",
              "        vertical-align: middle;\n",
              "    }\n",
              "\n",
              "    .dataframe tbody tr th {\n",
              "        vertical-align: top;\n",
              "    }\n",
              "\n",
              "    .dataframe thead th {\n",
              "        text-align: right;\n",
              "    }\n",
              "</style>\n",
              "<table border=\"1\" class=\"dataframe\">\n",
              "  <thead>\n",
              "    <tr style=\"text-align: right;\">\n",
              "      <th></th>\n",
              "      <th>0</th>\n",
              "      <th>1</th>\n",
              "      <th>2</th>\n",
              "      <th>3</th>\n",
              "      <th>4</th>\n",
              "      <th>5</th>\n",
              "      <th>6</th>\n",
              "      <th>7</th>\n",
              "      <th>8</th>\n",
              "      <th>9</th>\n",
              "      <th>10</th>\n",
              "      <th>11</th>\n",
              "      <th>12</th>\n",
              "      <th>13</th>\n",
              "      <th>14</th>\n",
              "      <th>15</th>\n",
              "      <th>16</th>\n",
              "      <th>17</th>\n",
              "      <th>18</th>\n",
              "      <th>19</th>\n",
              "      <th>20</th>\n",
              "      <th>21</th>\n",
              "      <th>22</th>\n",
              "      <th>23</th>\n",
              "      <th>24</th>\n",
              "      <th>25</th>\n",
              "      <th>26</th>\n",
              "      <th>27</th>\n",
              "      <th>28</th>\n",
              "      <th>29</th>\n",
              "      <th>30</th>\n",
              "      <th>31</th>\n",
              "      <th>32</th>\n",
              "      <th>33</th>\n",
              "      <th>34</th>\n",
              "      <th>35</th>\n",
              "      <th>36</th>\n",
              "      <th>37</th>\n",
              "      <th>38</th>\n",
              "      <th>39</th>\n",
              "      <th>...</th>\n",
              "      <th>728</th>\n",
              "      <th>729</th>\n",
              "      <th>730</th>\n",
              "      <th>731</th>\n",
              "      <th>732</th>\n",
              "      <th>733</th>\n",
              "      <th>734</th>\n",
              "      <th>735</th>\n",
              "      <th>736</th>\n",
              "      <th>737</th>\n",
              "      <th>738</th>\n",
              "      <th>739</th>\n",
              "      <th>740</th>\n",
              "      <th>741</th>\n",
              "      <th>742</th>\n",
              "      <th>743</th>\n",
              "      <th>744</th>\n",
              "      <th>745</th>\n",
              "      <th>746</th>\n",
              "      <th>747</th>\n",
              "      <th>748</th>\n",
              "      <th>749</th>\n",
              "      <th>750</th>\n",
              "      <th>751</th>\n",
              "      <th>752</th>\n",
              "      <th>753</th>\n",
              "      <th>754</th>\n",
              "      <th>755</th>\n",
              "      <th>756</th>\n",
              "      <th>757</th>\n",
              "      <th>758</th>\n",
              "      <th>759</th>\n",
              "      <th>760</th>\n",
              "      <th>761</th>\n",
              "      <th>762</th>\n",
              "      <th>763</th>\n",
              "      <th>764</th>\n",
              "      <th>765</th>\n",
              "      <th>766</th>\n",
              "      <th>767</th>\n",
              "    </tr>\n",
              "  </thead>\n",
              "  <tbody>\n",
              "    <tr>\n",
              "      <th>0</th>\n",
              "      <td>0.324251</td>\n",
              "      <td>-0.303960</td>\n",
              "      <td>-0.531702</td>\n",
              "      <td>0.299873</td>\n",
              "      <td>0.403131</td>\n",
              "      <td>0.182741</td>\n",
              "      <td>-0.203073</td>\n",
              "      <td>0.259188</td>\n",
              "      <td>-0.102294</td>\n",
              "      <td>0.417810</td>\n",
              "      <td>-0.541918</td>\n",
              "      <td>-0.479155</td>\n",
              "      <td>0.266882</td>\n",
              "      <td>0.454165</td>\n",
              "      <td>0.536344</td>\n",
              "      <td>-0.054196</td>\n",
              "      <td>0.299348</td>\n",
              "      <td>-0.391373</td>\n",
              "      <td>0.031636</td>\n",
              "      <td>-0.004987</td>\n",
              "      <td>-0.461191</td>\n",
              "      <td>0.488423</td>\n",
              "      <td>0.315752</td>\n",
              "      <td>0.273275</td>\n",
              "      <td>0.019969</td>\n",
              "      <td>-0.078391</td>\n",
              "      <td>0.344190</td>\n",
              "      <td>-0.342963</td>\n",
              "      <td>-0.638342</td>\n",
              "      <td>-0.227884</td>\n",
              "      <td>-0.318753</td>\n",
              "      <td>-0.116704</td>\n",
              "      <td>-0.407289</td>\n",
              "      <td>-0.028392</td>\n",
              "      <td>-0.032911</td>\n",
              "      <td>0.017167</td>\n",
              "      <td>-0.627910</td>\n",
              "      <td>-0.277079</td>\n",
              "      <td>-0.196345</td>\n",
              "      <td>-0.313651</td>\n",
              "      <td>...</td>\n",
              "      <td>0.343724</td>\n",
              "      <td>-0.023806</td>\n",
              "      <td>-0.018464</td>\n",
              "      <td>0.304180</td>\n",
              "      <td>-0.192684</td>\n",
              "      <td>-0.012592</td>\n",
              "      <td>0.668172</td>\n",
              "      <td>1.329410</td>\n",
              "      <td>-0.305809</td>\n",
              "      <td>-0.485491</td>\n",
              "      <td>0.303751</td>\n",
              "      <td>0.074832</td>\n",
              "      <td>0.276671</td>\n",
              "      <td>0.242816</td>\n",
              "      <td>0.799134</td>\n",
              "      <td>-0.167131</td>\n",
              "      <td>0.025577</td>\n",
              "      <td>-0.172339</td>\n",
              "      <td>0.149740</td>\n",
              "      <td>0.230996</td>\n",
              "      <td>-0.414747</td>\n",
              "      <td>1.509676</td>\n",
              "      <td>0.382342</td>\n",
              "      <td>0.153262</td>\n",
              "      <td>0.107553</td>\n",
              "      <td>-0.698962</td>\n",
              "      <td>0.314527</td>\n",
              "      <td>-0.582511</td>\n",
              "      <td>3.478960</td>\n",
              "      <td>0.095922</td>\n",
              "      <td>0.908202</td>\n",
              "      <td>0.178191</td>\n",
              "      <td>0.379136</td>\n",
              "      <td>-0.456799</td>\n",
              "      <td>-0.218042</td>\n",
              "      <td>0.018265</td>\n",
              "      <td>-0.390030</td>\n",
              "      <td>0.624088</td>\n",
              "      <td>0.247547</td>\n",
              "      <td>0.089631</td>\n",
              "    </tr>\n",
              "    <tr>\n",
              "      <th>1</th>\n",
              "      <td>0.194804</td>\n",
              "      <td>-0.075738</td>\n",
              "      <td>-0.816784</td>\n",
              "      <td>0.084382</td>\n",
              "      <td>0.894680</td>\n",
              "      <td>0.032717</td>\n",
              "      <td>0.083127</td>\n",
              "      <td>0.237022</td>\n",
              "      <td>-0.303457</td>\n",
              "      <td>0.570775</td>\n",
              "      <td>-0.649234</td>\n",
              "      <td>0.326562</td>\n",
              "      <td>0.761550</td>\n",
              "      <td>-0.000053</td>\n",
              "      <td>0.832276</td>\n",
              "      <td>0.319308</td>\n",
              "      <td>0.439984</td>\n",
              "      <td>-0.515648</td>\n",
              "      <td>0.108328</td>\n",
              "      <td>-0.080528</td>\n",
              "      <td>-0.723561</td>\n",
              "      <td>0.150524</td>\n",
              "      <td>0.188107</td>\n",
              "      <td>0.183906</td>\n",
              "      <td>-0.068565</td>\n",
              "      <td>0.068626</td>\n",
              "      <td>0.454541</td>\n",
              "      <td>-0.065351</td>\n",
              "      <td>-0.271542</td>\n",
              "      <td>0.533624</td>\n",
              "      <td>-0.229604</td>\n",
              "      <td>0.108813</td>\n",
              "      <td>-0.547954</td>\n",
              "      <td>-0.262301</td>\n",
              "      <td>-0.168546</td>\n",
              "      <td>0.333304</td>\n",
              "      <td>-0.057097</td>\n",
              "      <td>0.159853</td>\n",
              "      <td>-0.253442</td>\n",
              "      <td>0.096077</td>\n",
              "      <td>...</td>\n",
              "      <td>0.703440</td>\n",
              "      <td>-0.663798</td>\n",
              "      <td>-0.470176</td>\n",
              "      <td>0.388028</td>\n",
              "      <td>-0.059861</td>\n",
              "      <td>0.329031</td>\n",
              "      <td>0.039035</td>\n",
              "      <td>1.148116</td>\n",
              "      <td>-0.352533</td>\n",
              "      <td>-0.544824</td>\n",
              "      <td>0.205626</td>\n",
              "      <td>-0.086523</td>\n",
              "      <td>-0.221198</td>\n",
              "      <td>-0.062135</td>\n",
              "      <td>0.229879</td>\n",
              "      <td>0.104211</td>\n",
              "      <td>-0.185633</td>\n",
              "      <td>-0.276297</td>\n",
              "      <td>-0.040830</td>\n",
              "      <td>0.455157</td>\n",
              "      <td>-0.431938</td>\n",
              "      <td>1.446994</td>\n",
              "      <td>0.087776</td>\n",
              "      <td>-0.000347</td>\n",
              "      <td>0.831411</td>\n",
              "      <td>-0.478754</td>\n",
              "      <td>0.282525</td>\n",
              "      <td>-0.081558</td>\n",
              "      <td>2.836067</td>\n",
              "      <td>0.272603</td>\n",
              "      <td>0.487547</td>\n",
              "      <td>0.188720</td>\n",
              "      <td>0.278953</td>\n",
              "      <td>-0.186489</td>\n",
              "      <td>0.001785</td>\n",
              "      <td>-0.709493</td>\n",
              "      <td>-0.654216</td>\n",
              "      <td>0.313993</td>\n",
              "      <td>0.250704</td>\n",
              "      <td>-0.023052</td>\n",
              "    </tr>\n",
              "    <tr>\n",
              "      <th>2</th>\n",
              "      <td>0.585309</td>\n",
              "      <td>0.003941</td>\n",
              "      <td>-0.367120</td>\n",
              "      <td>0.198844</td>\n",
              "      <td>0.128550</td>\n",
              "      <td>-0.232376</td>\n",
              "      <td>0.153291</td>\n",
              "      <td>0.271647</td>\n",
              "      <td>-0.253263</td>\n",
              "      <td>0.061247</td>\n",
              "      <td>-0.271727</td>\n",
              "      <td>-0.833326</td>\n",
              "      <td>0.271669</td>\n",
              "      <td>0.431639</td>\n",
              "      <td>0.794373</td>\n",
              "      <td>0.166208</td>\n",
              "      <td>0.616687</td>\n",
              "      <td>-0.208543</td>\n",
              "      <td>0.219052</td>\n",
              "      <td>0.200490</td>\n",
              "      <td>-0.243154</td>\n",
              "      <td>0.540085</td>\n",
              "      <td>-0.034937</td>\n",
              "      <td>-0.044356</td>\n",
              "      <td>-0.168746</td>\n",
              "      <td>0.370128</td>\n",
              "      <td>0.341564</td>\n",
              "      <td>-0.601410</td>\n",
              "      <td>-0.267817</td>\n",
              "      <td>-0.240232</td>\n",
              "      <td>-0.016591</td>\n",
              "      <td>-0.190077</td>\n",
              "      <td>-0.354367</td>\n",
              "      <td>-0.106480</td>\n",
              "      <td>0.396099</td>\n",
              "      <td>-0.091455</td>\n",
              "      <td>-0.317939</td>\n",
              "      <td>-0.097433</td>\n",
              "      <td>-0.582083</td>\n",
              "      <td>-0.296914</td>\n",
              "      <td>...</td>\n",
              "      <td>-0.037693</td>\n",
              "      <td>0.186048</td>\n",
              "      <td>0.184238</td>\n",
              "      <td>0.547793</td>\n",
              "      <td>0.155288</td>\n",
              "      <td>-0.003441</td>\n",
              "      <td>0.063999</td>\n",
              "      <td>0.647966</td>\n",
              "      <td>-0.209710</td>\n",
              "      <td>-0.741342</td>\n",
              "      <td>0.400027</td>\n",
              "      <td>-0.090959</td>\n",
              "      <td>0.540371</td>\n",
              "      <td>-0.015040</td>\n",
              "      <td>0.709681</td>\n",
              "      <td>-0.292053</td>\n",
              "      <td>-0.141361</td>\n",
              "      <td>-0.313063</td>\n",
              "      <td>0.172635</td>\n",
              "      <td>0.569129</td>\n",
              "      <td>-0.624748</td>\n",
              "      <td>1.265876</td>\n",
              "      <td>0.065454</td>\n",
              "      <td>-0.135023</td>\n",
              "      <td>0.208191</td>\n",
              "      <td>-0.574641</td>\n",
              "      <td>-0.314702</td>\n",
              "      <td>-0.107898</td>\n",
              "      <td>2.831677</td>\n",
              "      <td>0.413751</td>\n",
              "      <td>0.968893</td>\n",
              "      <td>0.287001</td>\n",
              "      <td>0.118327</td>\n",
              "      <td>-0.006438</td>\n",
              "      <td>-0.270504</td>\n",
              "      <td>0.438914</td>\n",
              "      <td>-0.468461</td>\n",
              "      <td>0.776937</td>\n",
              "      <td>0.563485</td>\n",
              "      <td>0.124479</td>\n",
              "    </tr>\n",
              "    <tr>\n",
              "      <th>3</th>\n",
              "      <td>0.240405</td>\n",
              "      <td>-0.196801</td>\n",
              "      <td>-0.402898</td>\n",
              "      <td>0.247874</td>\n",
              "      <td>0.483697</td>\n",
              "      <td>-0.058736</td>\n",
              "      <td>0.034119</td>\n",
              "      <td>0.416854</td>\n",
              "      <td>0.029818</td>\n",
              "      <td>0.397402</td>\n",
              "      <td>-0.528784</td>\n",
              "      <td>-0.128445</td>\n",
              "      <td>0.582093</td>\n",
              "      <td>-0.058118</td>\n",
              "      <td>0.747407</td>\n",
              "      <td>-0.097186</td>\n",
              "      <td>0.758347</td>\n",
              "      <td>-0.035066</td>\n",
              "      <td>-0.271833</td>\n",
              "      <td>0.002676</td>\n",
              "      <td>-0.170849</td>\n",
              "      <td>0.676712</td>\n",
              "      <td>0.175323</td>\n",
              "      <td>0.380564</td>\n",
              "      <td>0.024691</td>\n",
              "      <td>0.182161</td>\n",
              "      <td>-0.027836</td>\n",
              "      <td>0.043075</td>\n",
              "      <td>-0.126478</td>\n",
              "      <td>0.052623</td>\n",
              "      <td>0.144590</td>\n",
              "      <td>-0.169166</td>\n",
              "      <td>-0.658048</td>\n",
              "      <td>0.084088</td>\n",
              "      <td>-0.199635</td>\n",
              "      <td>0.214226</td>\n",
              "      <td>-0.135041</td>\n",
              "      <td>0.364457</td>\n",
              "      <td>-0.167072</td>\n",
              "      <td>-0.286666</td>\n",
              "      <td>...</td>\n",
              "      <td>0.360025</td>\n",
              "      <td>-0.102896</td>\n",
              "      <td>-0.495575</td>\n",
              "      <td>0.391058</td>\n",
              "      <td>-0.184295</td>\n",
              "      <td>-0.133550</td>\n",
              "      <td>0.077765</td>\n",
              "      <td>1.054018</td>\n",
              "      <td>-0.038870</td>\n",
              "      <td>-0.374558</td>\n",
              "      <td>-0.228220</td>\n",
              "      <td>0.190065</td>\n",
              "      <td>0.093874</td>\n",
              "      <td>-0.365411</td>\n",
              "      <td>0.831343</td>\n",
              "      <td>-0.217639</td>\n",
              "      <td>-0.134534</td>\n",
              "      <td>-0.436300</td>\n",
              "      <td>0.471186</td>\n",
              "      <td>0.383684</td>\n",
              "      <td>-0.766465</td>\n",
              "      <td>1.323396</td>\n",
              "      <td>0.070615</td>\n",
              "      <td>-0.319159</td>\n",
              "      <td>0.331997</td>\n",
              "      <td>-0.628262</td>\n",
              "      <td>-0.197321</td>\n",
              "      <td>-0.172375</td>\n",
              "      <td>2.611543</td>\n",
              "      <td>0.164597</td>\n",
              "      <td>0.628817</td>\n",
              "      <td>-0.264465</td>\n",
              "      <td>0.525177</td>\n",
              "      <td>-0.557427</td>\n",
              "      <td>-0.285304</td>\n",
              "      <td>-0.266767</td>\n",
              "      <td>-0.578782</td>\n",
              "      <td>0.883180</td>\n",
              "      <td>0.213166</td>\n",
              "      <td>0.236929</td>\n",
              "    </tr>\n",
              "    <tr>\n",
              "      <th>4</th>\n",
              "      <td>0.031030</td>\n",
              "      <td>0.111539</td>\n",
              "      <td>-0.963593</td>\n",
              "      <td>0.026597</td>\n",
              "      <td>0.310630</td>\n",
              "      <td>-0.171762</td>\n",
              "      <td>-0.009470</td>\n",
              "      <td>0.504058</td>\n",
              "      <td>-0.045494</td>\n",
              "      <td>0.823777</td>\n",
              "      <td>-0.580461</td>\n",
              "      <td>0.066050</td>\n",
              "      <td>1.256109</td>\n",
              "      <td>-0.120481</td>\n",
              "      <td>0.846574</td>\n",
              "      <td>0.016310</td>\n",
              "      <td>0.107999</td>\n",
              "      <td>-0.514714</td>\n",
              "      <td>0.177145</td>\n",
              "      <td>-0.175726</td>\n",
              "      <td>-0.038839</td>\n",
              "      <td>0.442815</td>\n",
              "      <td>0.231700</td>\n",
              "      <td>-0.226208</td>\n",
              "      <td>-0.020234</td>\n",
              "      <td>0.343268</td>\n",
              "      <td>0.153981</td>\n",
              "      <td>0.051112</td>\n",
              "      <td>-0.281343</td>\n",
              "      <td>0.166330</td>\n",
              "      <td>0.344367</td>\n",
              "      <td>-0.292234</td>\n",
              "      <td>-0.137696</td>\n",
              "      <td>-0.084448</td>\n",
              "      <td>0.303783</td>\n",
              "      <td>0.157593</td>\n",
              "      <td>0.242950</td>\n",
              "      <td>0.545282</td>\n",
              "      <td>-0.102566</td>\n",
              "      <td>-0.250256</td>\n",
              "      <td>...</td>\n",
              "      <td>0.802388</td>\n",
              "      <td>0.212225</td>\n",
              "      <td>-0.244977</td>\n",
              "      <td>-0.037442</td>\n",
              "      <td>0.049027</td>\n",
              "      <td>0.692438</td>\n",
              "      <td>0.175012</td>\n",
              "      <td>1.243459</td>\n",
              "      <td>0.729994</td>\n",
              "      <td>-0.672076</td>\n",
              "      <td>-0.250454</td>\n",
              "      <td>0.167622</td>\n",
              "      <td>0.104351</td>\n",
              "      <td>0.051193</td>\n",
              "      <td>-0.424587</td>\n",
              "      <td>-0.175754</td>\n",
              "      <td>-0.368136</td>\n",
              "      <td>-0.485715</td>\n",
              "      <td>0.212069</td>\n",
              "      <td>0.118099</td>\n",
              "      <td>-0.331234</td>\n",
              "      <td>1.044600</td>\n",
              "      <td>0.046330</td>\n",
              "      <td>-0.212750</td>\n",
              "      <td>0.976813</td>\n",
              "      <td>-0.568081</td>\n",
              "      <td>0.069392</td>\n",
              "      <td>-0.175451</td>\n",
              "      <td>1.978568</td>\n",
              "      <td>0.213631</td>\n",
              "      <td>0.424853</td>\n",
              "      <td>-0.336041</td>\n",
              "      <td>0.196135</td>\n",
              "      <td>-0.654006</td>\n",
              "      <td>-0.106945</td>\n",
              "      <td>-0.200739</td>\n",
              "      <td>-0.407123</td>\n",
              "      <td>0.936141</td>\n",
              "      <td>0.003107</td>\n",
              "      <td>0.225179</td>\n",
              "    </tr>\n",
              "  </tbody>\n",
              "</table>\n",
              "<p>5 rows × 768 columns</p>\n",
              "</div>"
            ],
            "text/plain": [
              "        0         1         2    ...       765       766       767\n",
              "0  0.324251 -0.303960 -0.531702  ...  0.624088  0.247547  0.089631\n",
              "1  0.194804 -0.075738 -0.816784  ...  0.313993  0.250704 -0.023052\n",
              "2  0.585309  0.003941 -0.367120  ...  0.776937  0.563485  0.124479\n",
              "3  0.240405 -0.196801 -0.402898  ...  0.883180  0.213166  0.236929\n",
              "4  0.031030  0.111539 -0.963593  ...  0.936141  0.003107  0.225179\n",
              "\n",
              "[5 rows x 768 columns]"
            ]
          },
          "metadata": {
            "tags": []
          },
          "execution_count": 5
        }
      ]
    },
    {
      "cell_type": "code",
      "metadata": {
        "colab": {
          "base_uri": "https://localhost:8080/",
          "height": 229
        },
        "id": "NWHDF6coNE4H",
        "outputId": "2776063b-0e80-4fe0-efd9-6ba8d0e9cd73"
      },
      "source": [
        "df.head()"
      ],
      "execution_count": null,
      "outputs": [
        {
          "output_type": "execute_result",
          "data": {
            "text/html": [
              "<div>\n",
              "<style scoped>\n",
              "    .dataframe tbody tr th:only-of-type {\n",
              "        vertical-align: middle;\n",
              "    }\n",
              "\n",
              "    .dataframe tbody tr th {\n",
              "        vertical-align: top;\n",
              "    }\n",
              "\n",
              "    .dataframe thead th {\n",
              "        text-align: right;\n",
              "    }\n",
              "</style>\n",
              "<table border=\"1\" class=\"dataframe\">\n",
              "  <thead>\n",
              "    <tr style=\"text-align: right;\">\n",
              "      <th></th>\n",
              "      <th>CATEGORY</th>\n",
              "      <th>IDS</th>\n",
              "      <th>NUMS</th>\n",
              "      <th>SUBTYPE</th>\n",
              "      <th>Topic</th>\n",
              "      <th>Doc_ID</th>\n",
              "      <th>count</th>\n",
              "    </tr>\n",
              "  </thead>\n",
              "  <tbody>\n",
              "    <tr>\n",
              "      <th>0</th>\n",
              "      <td>政府及社会团体相关 政府机关相关 生活服务场所 乡镇以下级政府及事业单位 乡镇以下级政府及事...</td>\n",
              "      <td>0</td>\n",
              "      <td>11</td>\n",
              "      <td>政府及社会团体相关 政府机关 生活服务场所 政府机关 政府机关 政府机关 临街院门 物流速递...</td>\n",
              "      <td>5</td>\n",
              "      <td>0</td>\n",
              "      <td>1</td>\n",
              "    </tr>\n",
              "    <tr>\n",
              "      <th>1</th>\n",
              "      <td>物流速递 政府及社会团体相关</td>\n",
              "      <td>1</td>\n",
              "      <td>2</td>\n",
              "      <td>物流速递 政府及社会团体相关</td>\n",
              "      <td>-1</td>\n",
              "      <td>1</td>\n",
              "      <td>1</td>\n",
              "    </tr>\n",
              "    <tr>\n",
              "      <th>2</th>\n",
              "      <td>其它农林牧渔基地 物流速递 汽车维修 公司 餐饮相关 餐饮相关 中餐厅 快餐厅 公交车站相关...</td>\n",
              "      <td>2</td>\n",
              "      <td>27</td>\n",
              "      <td>农林牧渔基地 物流速递 汽车维修 公司 餐饮相关场所 餐饮相关场所 中餐厅 快餐厅 公交车站...</td>\n",
              "      <td>-1</td>\n",
              "      <td>2</td>\n",
              "      <td>1</td>\n",
              "    </tr>\n",
              "    <tr>\n",
              "      <th>3</th>\n",
              "      <td>路口名 餐饮相关 公证鉴定机构 公司 小学</td>\n",
              "      <td>3</td>\n",
              "      <td>5</td>\n",
              "      <td>交通地名 餐饮相关场所 公检法机构 公司 学校</td>\n",
              "      <td>-1</td>\n",
              "      <td>3</td>\n",
              "      <td>1</td>\n",
              "    </tr>\n",
              "    <tr>\n",
              "      <th>4</th>\n",
              "      <td>餐饮相关</td>\n",
              "      <td>4</td>\n",
              "      <td>1</td>\n",
              "      <td>餐饮相关场所</td>\n",
              "      <td>6</td>\n",
              "      <td>4</td>\n",
              "      <td>1</td>\n",
              "    </tr>\n",
              "  </tbody>\n",
              "</table>\n",
              "</div>"
            ],
            "text/plain": [
              "                                            CATEGORY  IDS  ...  Doc_ID count\n",
              "0  政府及社会团体相关 政府机关相关 生活服务场所 乡镇以下级政府及事业单位 乡镇以下级政府及事...    0  ...       0     1\n",
              "1                                     物流速递 政府及社会团体相关    1  ...       1     1\n",
              "2  其它农林牧渔基地 物流速递 汽车维修 公司 餐饮相关 餐饮相关 中餐厅 快餐厅 公交车站相关...    2  ...       2     1\n",
              "3                              路口名 餐饮相关 公证鉴定机构 公司 小学    3  ...       3     1\n",
              "4                                               餐饮相关    4  ...       4     1\n",
              "\n",
              "[5 rows x 7 columns]"
            ]
          },
          "metadata": {
            "tags": []
          },
          "execution_count": 43
        }
      ]
    },
    {
      "cell_type": "code",
      "metadata": {
        "id": "IyprXdc9Nh0k"
      },
      "source": [
        "def get_list(ID):\r\n",
        "  return(embeddings[ID])"
      ],
      "execution_count": null,
      "outputs": []
    },
    {
      "cell_type": "code",
      "metadata": {
        "colab": {
          "base_uri": "https://localhost:8080/",
          "height": 457
        },
        "id": "qRYFdmJfN59s",
        "outputId": "71779ab8-f834-4951-c0b6-2e5fff2e45d9"
      },
      "source": [
        "df['list']=df.apply(lambda x:get_list(x['Doc_ID']),axis=1)\r\n",
        "df.head()"
      ],
      "execution_count": null,
      "outputs": [
        {
          "output_type": "execute_result",
          "data": {
            "text/html": [
              "<div>\n",
              "<style scoped>\n",
              "    .dataframe tbody tr th:only-of-type {\n",
              "        vertical-align: middle;\n",
              "    }\n",
              "\n",
              "    .dataframe tbody tr th {\n",
              "        vertical-align: top;\n",
              "    }\n",
              "\n",
              "    .dataframe thead th {\n",
              "        text-align: right;\n",
              "    }\n",
              "</style>\n",
              "<table border=\"1\" class=\"dataframe\">\n",
              "  <thead>\n",
              "    <tr style=\"text-align: right;\">\n",
              "      <th></th>\n",
              "      <th>CATEGORY</th>\n",
              "      <th>IDS</th>\n",
              "      <th>NUMS</th>\n",
              "      <th>SUBTYPE</th>\n",
              "      <th>Topic</th>\n",
              "      <th>Doc_ID</th>\n",
              "      <th>count</th>\n",
              "      <th>list</th>\n",
              "    </tr>\n",
              "  </thead>\n",
              "  <tbody>\n",
              "    <tr>\n",
              "      <th>0</th>\n",
              "      <td>政府及社会团体相关 政府机关相关 生活服务场所 乡镇以下级政府及事业单位 乡镇以下级政府及事...</td>\n",
              "      <td>0</td>\n",
              "      <td>11</td>\n",
              "      <td>政府及社会团体相关 政府机关 生活服务场所 政府机关 政府机关 政府机关 临街院门 物流速递...</td>\n",
              "      <td>5</td>\n",
              "      <td>0</td>\n",
              "      <td>1</td>\n",
              "      <td>[0.3242509, -0.30395952, -0.53170204, 0.299872...</td>\n",
              "    </tr>\n",
              "    <tr>\n",
              "      <th>1</th>\n",
              "      <td>物流速递 政府及社会团体相关</td>\n",
              "      <td>1</td>\n",
              "      <td>2</td>\n",
              "      <td>物流速递 政府及社会团体相关</td>\n",
              "      <td>-1</td>\n",
              "      <td>1</td>\n",
              "      <td>1</td>\n",
              "      <td>[0.19480392, -0.07573767, -0.81678367, 0.08438...</td>\n",
              "    </tr>\n",
              "    <tr>\n",
              "      <th>2</th>\n",
              "      <td>其它农林牧渔基地 物流速递 汽车维修 公司 餐饮相关 餐饮相关 中餐厅 快餐厅 公交车站相关...</td>\n",
              "      <td>2</td>\n",
              "      <td>27</td>\n",
              "      <td>农林牧渔基地 物流速递 汽车维修 公司 餐饮相关场所 餐饮相关场所 中餐厅 快餐厅 公交车站...</td>\n",
              "      <td>-1</td>\n",
              "      <td>2</td>\n",
              "      <td>1</td>\n",
              "      <td>[0.58530915, 0.00394079, -0.3671201, 0.1988441...</td>\n",
              "    </tr>\n",
              "    <tr>\n",
              "      <th>3</th>\n",
              "      <td>路口名 餐饮相关 公证鉴定机构 公司 小学</td>\n",
              "      <td>3</td>\n",
              "      <td>5</td>\n",
              "      <td>交通地名 餐饮相关场所 公检法机构 公司 学校</td>\n",
              "      <td>-1</td>\n",
              "      <td>3</td>\n",
              "      <td>1</td>\n",
              "      <td>[0.24040478, -0.19680066, -0.40289846, 0.24787...</td>\n",
              "    </tr>\n",
              "    <tr>\n",
              "      <th>4</th>\n",
              "      <td>餐饮相关</td>\n",
              "      <td>4</td>\n",
              "      <td>1</td>\n",
              "      <td>餐饮相关场所</td>\n",
              "      <td>6</td>\n",
              "      <td>4</td>\n",
              "      <td>1</td>\n",
              "      <td>[0.031029541, 0.11153935, -0.96359277, 0.02659...</td>\n",
              "    </tr>\n",
              "  </tbody>\n",
              "</table>\n",
              "</div>"
            ],
            "text/plain": [
              "                                            CATEGORY  ...                                               list\n",
              "0  政府及社会团体相关 政府机关相关 生活服务场所 乡镇以下级政府及事业单位 乡镇以下级政府及事...  ...  [0.3242509, -0.30395952, -0.53170204, 0.299872...\n",
              "1                                     物流速递 政府及社会团体相关  ...  [0.19480392, -0.07573767, -0.81678367, 0.08438...\n",
              "2  其它农林牧渔基地 物流速递 汽车维修 公司 餐饮相关 餐饮相关 中餐厅 快餐厅 公交车站相关...  ...  [0.58530915, 0.00394079, -0.3671201, 0.1988441...\n",
              "3                              路口名 餐饮相关 公证鉴定机构 公司 小学  ...  [0.24040478, -0.19680066, -0.40289846, 0.24787...\n",
              "4                                               餐饮相关  ...  [0.031029541, 0.11153935, -0.96359277, 0.02659...\n",
              "\n",
              "[5 rows x 8 columns]"
            ]
          },
          "metadata": {
            "tags": []
          },
          "execution_count": 10
        }
      ]
    },
    {
      "cell_type": "code",
      "metadata": {
        "colab": {
          "base_uri": "https://localhost:8080/"
        },
        "id": "8uJtrYXFUpNd",
        "outputId": "b3ec4bfe-7ad6-442b-ed06-37e38da57b73"
      },
      "source": [
        "#降维\r\n",
        "import umap\r\n",
        "umap_embeddings = umap.UMAP(n_neighbors=5,n_components=15,metric='cosine').fit_transform(embeddings)\r\n",
        "umap_embeddings.shape"
      ],
      "execution_count": null,
      "outputs": [
        {
          "output_type": "execute_result",
          "data": {
            "text/plain": [
              "(1976, 15)"
            ]
          },
          "metadata": {
            "tags": []
          },
          "execution_count": 28
        }
      ]
    },
    {
      "cell_type": "code",
      "metadata": {
        "id": "1c_R36cxVJ91"
      },
      "source": [
        "def get_umap_list(ID):\r\n",
        "  return(umap_embeddings[ID])\r\n",
        "df['umap']=df.apply(lambda x:get_umap_list(x['Doc_ID']),axis=1)"
      ],
      "execution_count": null,
      "outputs": []
    },
    {
      "cell_type": "code",
      "metadata": {
        "colab": {
          "base_uri": "https://localhost:8080/"
        },
        "id": "_B8CQcOgYFbs",
        "outputId": "734bee56-b7e4-451a-e6ad-12326415f7a1"
      },
      "source": [
        "embeddings.shape"
      ],
      "execution_count": null,
      "outputs": [
        {
          "output_type": "execute_result",
          "data": {
            "text/plain": [
              "(1976, 768)"
            ]
          },
          "metadata": {
            "tags": []
          },
          "execution_count": 27
        }
      ]
    },
    {
      "cell_type": "code",
      "metadata": {
        "colab": {
          "base_uri": "https://localhost:8080/",
          "height": 288
        },
        "id": "rmWD2bn6T_QL",
        "outputId": "cbfe3ddb-83c0-4d0d-ba0f-9393bb9f8ef6"
      },
      "source": [
        "# df.groupby('Topic').mean()\r\n",
        "#这里是有降维的\r\n",
        "df_1=df[df['Topic']==-1]['umap'].mean()\r\n",
        "df0=df[df['Topic']==0]['umap'].mean()\r\n",
        "df1=df[df['Topic']==1]['umap'].mean()\r\n",
        "df2=df[df['Topic']==2]['umap'].mean()\r\n",
        "df3=df[df['Topic']==3]['umap'].mean()\r\n",
        "df4=df[df['Topic']==4]['umap'].mean()\r\n",
        "df5=df[df['Topic']==5]['umap'].mean()\r\n",
        "df6=df[df['Topic']==6]['umap'].mean()\r\n",
        "alldf=[df_1,df0,df1,df2,df3,df4,df5,df6]\r\n",
        "names=['Other','Water','Scenic','University','Company','Residence','Public services','Business']\r\n",
        "data =pd.DataFrame(np.array(alldf).T,columns=names)\r\n",
        "data.corr()"
      ],
      "execution_count": null,
      "outputs": [
        {
          "output_type": "execute_result",
          "data": {
            "text/html": [
              "<div>\n",
              "<style scoped>\n",
              "    .dataframe tbody tr th:only-of-type {\n",
              "        vertical-align: middle;\n",
              "    }\n",
              "\n",
              "    .dataframe tbody tr th {\n",
              "        vertical-align: top;\n",
              "    }\n",
              "\n",
              "    .dataframe thead th {\n",
              "        text-align: right;\n",
              "    }\n",
              "</style>\n",
              "<table border=\"1\" class=\"dataframe\">\n",
              "  <thead>\n",
              "    <tr style=\"text-align: right;\">\n",
              "      <th></th>\n",
              "      <th>Other</th>\n",
              "      <th>Water</th>\n",
              "      <th>Scenic</th>\n",
              "      <th>University</th>\n",
              "      <th>Company</th>\n",
              "      <th>Residence</th>\n",
              "      <th>Public services</th>\n",
              "      <th>Business</th>\n",
              "    </tr>\n",
              "  </thead>\n",
              "  <tbody>\n",
              "    <tr>\n",
              "      <th>Other</th>\n",
              "      <td>1.000000</td>\n",
              "      <td>-0.536343</td>\n",
              "      <td>0.801053</td>\n",
              "      <td>0.838529</td>\n",
              "      <td>0.770569</td>\n",
              "      <td>0.908913</td>\n",
              "      <td>0.965172</td>\n",
              "      <td>0.937160</td>\n",
              "    </tr>\n",
              "    <tr>\n",
              "      <th>Water</th>\n",
              "      <td>-0.536343</td>\n",
              "      <td>1.000000</td>\n",
              "      <td>-0.616363</td>\n",
              "      <td>-0.663078</td>\n",
              "      <td>-0.728197</td>\n",
              "      <td>-0.634541</td>\n",
              "      <td>-0.676933</td>\n",
              "      <td>-0.629691</td>\n",
              "    </tr>\n",
              "    <tr>\n",
              "      <th>Scenic</th>\n",
              "      <td>0.801053</td>\n",
              "      <td>-0.616363</td>\n",
              "      <td>1.000000</td>\n",
              "      <td>0.818121</td>\n",
              "      <td>0.691984</td>\n",
              "      <td>0.678163</td>\n",
              "      <td>0.750295</td>\n",
              "      <td>0.841683</td>\n",
              "    </tr>\n",
              "    <tr>\n",
              "      <th>University</th>\n",
              "      <td>0.838529</td>\n",
              "      <td>-0.663078</td>\n",
              "      <td>0.818121</td>\n",
              "      <td>1.000000</td>\n",
              "      <td>0.715146</td>\n",
              "      <td>0.701391</td>\n",
              "      <td>0.816860</td>\n",
              "      <td>0.779206</td>\n",
              "    </tr>\n",
              "    <tr>\n",
              "      <th>Company</th>\n",
              "      <td>0.770569</td>\n",
              "      <td>-0.728197</td>\n",
              "      <td>0.691984</td>\n",
              "      <td>0.715146</td>\n",
              "      <td>1.000000</td>\n",
              "      <td>0.693495</td>\n",
              "      <td>0.825015</td>\n",
              "      <td>0.680220</td>\n",
              "    </tr>\n",
              "    <tr>\n",
              "      <th>Residence</th>\n",
              "      <td>0.908913</td>\n",
              "      <td>-0.634541</td>\n",
              "      <td>0.678163</td>\n",
              "      <td>0.701391</td>\n",
              "      <td>0.693495</td>\n",
              "      <td>1.000000</td>\n",
              "      <td>0.911671</td>\n",
              "      <td>0.934959</td>\n",
              "    </tr>\n",
              "    <tr>\n",
              "      <th>Public services</th>\n",
              "      <td>0.965172</td>\n",
              "      <td>-0.676933</td>\n",
              "      <td>0.750295</td>\n",
              "      <td>0.816860</td>\n",
              "      <td>0.825015</td>\n",
              "      <td>0.911671</td>\n",
              "      <td>1.000000</td>\n",
              "      <td>0.909329</td>\n",
              "    </tr>\n",
              "    <tr>\n",
              "      <th>Business</th>\n",
              "      <td>0.937160</td>\n",
              "      <td>-0.629691</td>\n",
              "      <td>0.841683</td>\n",
              "      <td>0.779206</td>\n",
              "      <td>0.680220</td>\n",
              "      <td>0.934959</td>\n",
              "      <td>0.909329</td>\n",
              "      <td>1.000000</td>\n",
              "    </tr>\n",
              "  </tbody>\n",
              "</table>\n",
              "</div>"
            ],
            "text/plain": [
              "                    Other     Water  ...  Public services  Business\n",
              "Other            1.000000 -0.536343  ...         0.965172  0.937160\n",
              "Water           -0.536343  1.000000  ...        -0.676933 -0.629691\n",
              "Scenic           0.801053 -0.616363  ...         0.750295  0.841683\n",
              "University       0.838529 -0.663078  ...         0.816860  0.779206\n",
              "Company          0.770569 -0.728197  ...         0.825015  0.680220\n",
              "Residence        0.908913 -0.634541  ...         0.911671  0.934959\n",
              "Public services  0.965172 -0.676933  ...         1.000000  0.909329\n",
              "Business         0.937160 -0.629691  ...         0.909329  1.000000\n",
              "\n",
              "[8 rows x 8 columns]"
            ]
          },
          "metadata": {
            "tags": []
          },
          "execution_count": 30
        }
      ]
    },
    {
      "cell_type": "code",
      "metadata": {
        "id": "UeGVDCP9WL7G"
      },
      "source": [
        "data.corr().to_csv('/content/drive/MyDrive/corrdata5_15.csv')"
      ],
      "execution_count": null,
      "outputs": []
    },
    {
      "cell_type": "code",
      "metadata": {
        "id": "hu85XZNuO7wC"
      },
      "source": [
        "# df.groupby('Topic').mean()\r\n",
        "#这里是没有降维的\r\n",
        "df_1=df[df['Topic']==-1]['list'].mean()\r\n",
        "df0=df[df['Topic']==0]['list'].mean()\r\n",
        "df1=df[df['Topic']==1]['list'].mean()\r\n",
        "df2=df[df['Topic']==2]['list'].mean()\r\n",
        "df3=df[df['Topic']==3]['list'].mean()\r\n",
        "df4=df[df['Topic']==4]['list'].mean()\r\n",
        "df5=df[df['Topic']==5]['list'].mean()\r\n",
        "df6=df[df['Topic']==6]['list'].mean()"
      ],
      "execution_count": null,
      "outputs": []
    },
    {
      "cell_type": "code",
      "metadata": {
        "id": "kBceyRfRPwOy"
      },
      "source": [
        "alldf=[df_1,df0,df1,df2,df3,df4,df5,df6]\r\n",
        "names=['Other','Water','Scenic','University','Company','Residence','Public services','Business']\r\n",
        "data =pd.DataFrame(np.array(alldf).T,columns=names)"
      ],
      "execution_count": null,
      "outputs": []
    },
    {
      "cell_type": "code",
      "metadata": {
        "id": "7WSUuPTocYbi"
      },
      "source": [
        "data.to_csv('/content/drive/MyDrive/corrdata.csv')"
      ],
      "execution_count": null,
      "outputs": []
    },
    {
      "cell_type": "code",
      "metadata": {
        "colab": {
          "base_uri": "https://localhost:8080/",
          "height": 284
        },
        "id": "v_MjELHsQDGQ",
        "outputId": "799445cc-059d-4f09-e6b4-21d3c136713c"
      },
      "source": [
        "data.corr()"
      ],
      "execution_count": null,
      "outputs": [
        {
          "output_type": "execute_result",
          "data": {
            "text/html": [
              "<div>\n",
              "<style scoped>\n",
              "    .dataframe tbody tr th:only-of-type {\n",
              "        vertical-align: middle;\n",
              "    }\n",
              "\n",
              "    .dataframe tbody tr th {\n",
              "        vertical-align: top;\n",
              "    }\n",
              "\n",
              "    .dataframe thead th {\n",
              "        text-align: right;\n",
              "    }\n",
              "</style>\n",
              "<table border=\"1\" class=\"dataframe\">\n",
              "  <thead>\n",
              "    <tr style=\"text-align: right;\">\n",
              "      <th></th>\n",
              "      <th>Other</th>\n",
              "      <th>Water</th>\n",
              "      <th>Scenic</th>\n",
              "      <th>University</th>\n",
              "      <th>Company</th>\n",
              "      <th>Residence</th>\n",
              "      <th>Public services</th>\n",
              "      <th>Business</th>\n",
              "    </tr>\n",
              "  </thead>\n",
              "  <tbody>\n",
              "    <tr>\n",
              "      <th>Other</th>\n",
              "      <td>1.000000</td>\n",
              "      <td>0.471132</td>\n",
              "      <td>0.941804</td>\n",
              "      <td>0.984422</td>\n",
              "      <td>0.973496</td>\n",
              "      <td>0.988867</td>\n",
              "      <td>0.991136</td>\n",
              "      <td>0.989915</td>\n",
              "    </tr>\n",
              "    <tr>\n",
              "      <th>Water</th>\n",
              "      <td>0.471132</td>\n",
              "      <td>1.000000</td>\n",
              "      <td>0.407710</td>\n",
              "      <td>0.412609</td>\n",
              "      <td>0.468841</td>\n",
              "      <td>0.380926</td>\n",
              "      <td>0.375971</td>\n",
              "      <td>0.405936</td>\n",
              "    </tr>\n",
              "    <tr>\n",
              "      <th>Scenic</th>\n",
              "      <td>0.941804</td>\n",
              "      <td>0.407710</td>\n",
              "      <td>1.000000</td>\n",
              "      <td>0.940205</td>\n",
              "      <td>0.920453</td>\n",
              "      <td>0.936237</td>\n",
              "      <td>0.939123</td>\n",
              "      <td>0.937760</td>\n",
              "    </tr>\n",
              "    <tr>\n",
              "      <th>University</th>\n",
              "      <td>0.984422</td>\n",
              "      <td>0.412609</td>\n",
              "      <td>0.940205</td>\n",
              "      <td>1.000000</td>\n",
              "      <td>0.963041</td>\n",
              "      <td>0.973283</td>\n",
              "      <td>0.979685</td>\n",
              "      <td>0.975980</td>\n",
              "    </tr>\n",
              "    <tr>\n",
              "      <th>Company</th>\n",
              "      <td>0.973496</td>\n",
              "      <td>0.468841</td>\n",
              "      <td>0.920453</td>\n",
              "      <td>0.963041</td>\n",
              "      <td>1.000000</td>\n",
              "      <td>0.948581</td>\n",
              "      <td>0.961539</td>\n",
              "      <td>0.951497</td>\n",
              "    </tr>\n",
              "    <tr>\n",
              "      <th>Residence</th>\n",
              "      <td>0.988867</td>\n",
              "      <td>0.380926</td>\n",
              "      <td>0.936237</td>\n",
              "      <td>0.973283</td>\n",
              "      <td>0.948581</td>\n",
              "      <td>1.000000</td>\n",
              "      <td>0.991671</td>\n",
              "      <td>0.990498</td>\n",
              "    </tr>\n",
              "    <tr>\n",
              "      <th>Public services</th>\n",
              "      <td>0.991136</td>\n",
              "      <td>0.375971</td>\n",
              "      <td>0.939123</td>\n",
              "      <td>0.979685</td>\n",
              "      <td>0.961539</td>\n",
              "      <td>0.991671</td>\n",
              "      <td>1.000000</td>\n",
              "      <td>0.987014</td>\n",
              "    </tr>\n",
              "    <tr>\n",
              "      <th>Business</th>\n",
              "      <td>0.989915</td>\n",
              "      <td>0.405936</td>\n",
              "      <td>0.937760</td>\n",
              "      <td>0.975980</td>\n",
              "      <td>0.951497</td>\n",
              "      <td>0.990498</td>\n",
              "      <td>0.987014</td>\n",
              "      <td>1.000000</td>\n",
              "    </tr>\n",
              "  </tbody>\n",
              "</table>\n",
              "</div>"
            ],
            "text/plain": [
              "                    Other     Water  ...  Public services  Business\n",
              "Other            1.000000  0.471132  ...         0.991136  0.989915\n",
              "Water            0.471132  1.000000  ...         0.375971  0.405936\n",
              "Scenic           0.941804  0.407710  ...         0.939123  0.937760\n",
              "University       0.984422  0.412609  ...         0.979685  0.975980\n",
              "Company          0.973496  0.468841  ...         0.961539  0.951497\n",
              "Residence        0.988867  0.380926  ...         0.991671  0.990498\n",
              "Public services  0.991136  0.375971  ...         1.000000  0.987014\n",
              "Business         0.989915  0.405936  ...         0.987014  1.000000\n",
              "\n",
              "[8 rows x 8 columns]"
            ]
          },
          "metadata": {
            "tags": []
          },
          "execution_count": 61
        }
      ]
    },
    {
      "cell_type": "code",
      "metadata": {
        "id": "wYvpFdt5jshc"
      },
      "source": [
        ""
      ],
      "execution_count": null,
      "outputs": []
    },
    {
      "cell_type": "code",
      "metadata": {
        "id": "Qwm2RcQuSGUq"
      },
      "source": [
        "data.corr().to_csv('/content/drive/MyDrive/corr.csv')"
      ],
      "execution_count": null,
      "outputs": []
    },
    {
      "cell_type": "code",
      "metadata": {
        "colab": {
          "base_uri": "https://localhost:8080/"
        },
        "id": "mLqScwjCygke",
        "outputId": "8c35a711-f9d5-40d0-8ded-a80e401307ad"
      },
      "source": [
        "import pandas as pd\r\n",
        "df=pd.read_csv('/content/drive/MyDrive/GridData.csv')\r\n",
        "df.shape"
      ],
      "execution_count": null,
      "outputs": [
        {
          "output_type": "execute_result",
          "data": {
            "text/plain": [
              "(1976, 4)"
            ]
          },
          "metadata": {
            "tags": []
          },
          "execution_count": 28
        }
      ]
    },
    {
      "cell_type": "code",
      "metadata": {
        "id": "weS_sx2mziTb",
        "colab": {
          "base_uri": "https://localhost:8080/",
          "height": 233
        },
        "outputId": "85edd38b-b9ee-4667-a30b-1ab15885bfc5"
      },
      "source": [
        "df.head()"
      ],
      "execution_count": null,
      "outputs": [
        {
          "output_type": "execute_result",
          "data": {
            "text/html": [
              "<div>\n",
              "<style scoped>\n",
              "    .dataframe tbody tr th:only-of-type {\n",
              "        vertical-align: middle;\n",
              "    }\n",
              "\n",
              "    .dataframe tbody tr th {\n",
              "        vertical-align: top;\n",
              "    }\n",
              "\n",
              "    .dataframe thead th {\n",
              "        text-align: right;\n",
              "    }\n",
              "</style>\n",
              "<table border=\"1\" class=\"dataframe\">\n",
              "  <thead>\n",
              "    <tr style=\"text-align: right;\">\n",
              "      <th></th>\n",
              "      <th>CATEGORY</th>\n",
              "      <th>IDS</th>\n",
              "      <th>NUMS</th>\n",
              "      <th>SUBTYPE</th>\n",
              "    </tr>\n",
              "  </thead>\n",
              "  <tbody>\n",
              "    <tr>\n",
              "      <th>0</th>\n",
              "      <td>政府及社会团体相关 政府机关相关 生活服务场所 乡镇以下级政府及事业单位 乡镇以下级政府及事...</td>\n",
              "      <td>0</td>\n",
              "      <td>11</td>\n",
              "      <td>政府及社会团体相关 政府机关 生活服务场所 政府机关 政府机关 政府机关 临街院门 物流速递...</td>\n",
              "    </tr>\n",
              "    <tr>\n",
              "      <th>1</th>\n",
              "      <td>物流速递 政府及社会团体相关</td>\n",
              "      <td>1</td>\n",
              "      <td>2</td>\n",
              "      <td>物流速递 政府及社会团体相关</td>\n",
              "    </tr>\n",
              "    <tr>\n",
              "      <th>2</th>\n",
              "      <td>其它农林牧渔基地 物流速递 汽车维修 公司 餐饮相关 餐饮相关 中餐厅 快餐厅 公交车站相关...</td>\n",
              "      <td>2</td>\n",
              "      <td>27</td>\n",
              "      <td>农林牧渔基地 物流速递 汽车维修 公司 餐饮相关场所 餐饮相关场所 中餐厅 快餐厅 公交车站...</td>\n",
              "    </tr>\n",
              "    <tr>\n",
              "      <th>3</th>\n",
              "      <td>路口名 餐饮相关 公证鉴定机构 公司 小学</td>\n",
              "      <td>3</td>\n",
              "      <td>5</td>\n",
              "      <td>交通地名 餐饮相关场所 公检法机构 公司 学校</td>\n",
              "    </tr>\n",
              "    <tr>\n",
              "      <th>4</th>\n",
              "      <td>餐饮相关</td>\n",
              "      <td>4</td>\n",
              "      <td>1</td>\n",
              "      <td>餐饮相关场所</td>\n",
              "    </tr>\n",
              "  </tbody>\n",
              "</table>\n",
              "</div>"
            ],
            "text/plain": [
              "                                            CATEGORY  ...                                            SUBTYPE\n",
              "0  政府及社会团体相关 政府机关相关 生活服务场所 乡镇以下级政府及事业单位 乡镇以下级政府及事...  ...  政府及社会团体相关 政府机关 生活服务场所 政府机关 政府机关 政府机关 临街院门 物流速递...\n",
              "1                                     物流速递 政府及社会团体相关  ...                                     物流速递 政府及社会团体相关\n",
              "2  其它农林牧渔基地 物流速递 汽车维修 公司 餐饮相关 餐饮相关 中餐厅 快餐厅 公交车站相关...  ...  农林牧渔基地 物流速递 汽车维修 公司 餐饮相关场所 餐饮相关场所 中餐厅 快餐厅 公交车站...\n",
              "3                              路口名 餐饮相关 公证鉴定机构 公司 小学  ...                            交通地名 餐饮相关场所 公检法机构 公司 学校\n",
              "4                                               餐饮相关  ...                                             餐饮相关场所\n",
              "\n",
              "[5 rows x 4 columns]"
            ]
          },
          "metadata": {
            "tags": []
          },
          "execution_count": 8
        }
      ]
    },
    {
      "cell_type": "code",
      "metadata": {
        "id": "k4rLH88jz0_r",
        "colab": {
          "base_uri": "https://localhost:8080/",
          "height": 266,
          "referenced_widgets": [
            "9aca87cecfc34f5db4dea22ef18377db",
            "2f37dc6e63284991afbb51a7ae620632",
            "641a3a4e3c064a1fb6020db3cd1bab58",
            "8cf5259982484c49913b1032f1e5944b",
            "3baad3af1f324ebb8eee510a605130e6",
            "7a70be2dbdde44ae92227ca0b6831ff9",
            "91db53b832c1460f95e0e4c307c87a1b",
            "d216c6e808584b37a1456954f8eb4052",
            "2a465241355e492d8c13443ea1ffe8c8",
            "fd1e8a0f84b84e6685bf645fd410b1fe",
            "975c5b803c9141208263eafba5953d44",
            "9cebe8fd5d0548a2a79748385ca52508",
            "37b53882d1ed40aa9cb60641a2d0a872",
            "2b4c69473b7c41f0978637e7287a3716",
            "6d446bfa78f44f0880a41152d026d2f0",
            "8aafb4e777ce40c99928a90844d26e5b",
            "ea402d0834374d8bb8a1df4a9e2a744f",
            "0062713603464a99b0923b774406476e",
            "9e5dcb56353c4ff294a36802262f169c",
            "99c4996bff7a4e3ab05471df5c74bc7a",
            "2d6cab19c4424915906832df9ab6683f",
            "aa5f92b1ddf94b218b4a23b744f9706e",
            "9931a27f9a3e4a69b075857e352b3d75",
            "455a5a774a1a4aa482883077bb2cae59",
            "aa886878353242b4b1297289a7740095",
            "26ade598ae9040baa880c1fd603d617b",
            "617b464a6d6c41d4873db9c43e769830",
            "1ba3ffef02004f1e8ba9004d4ae84c90",
            "9432630866e2429986eb583fb59852ec",
            "314b0586437e4cd5847ceb2c2229117c",
            "a0d96791be2345cf873b161015fbcfab",
            "be46c006660a4ec5b6d3984302d909d2"
          ]
        },
        "outputId": "2ee6e406-1ba5-432e-880e-5052b7344de6"
      },
      "source": [
        "from sentence_transformers import SentenceTransformer\r\n",
        "model = SentenceTransformer('bert-base-chinese')#('distilbert-base-nli-mean-tokens')"
      ],
      "execution_count": null,
      "outputs": [
        {
          "output_type": "stream",
          "text": [
            "Exception when trying to download https://sbert.net/models/bert-base-chinese.zip. Response 404\n",
            "SentenceTransformer-Model https://sbert.net/models/bert-base-chinese.zip not found. Try to create it from scratch\n",
            "Try to create Transformer Model bert-base-chinese with mean pooling\n"
          ],
          "name": "stderr"
        },
        {
          "output_type": "display_data",
          "data": {
            "application/vnd.jupyter.widget-view+json": {
              "model_id": "9aca87cecfc34f5db4dea22ef18377db",
              "version_minor": 0,
              "version_major": 2
            },
            "text/plain": [
              "HBox(children=(FloatProgress(value=0.0, description='Downloading', max=624.0, style=ProgressStyle(description_…"
            ]
          },
          "metadata": {
            "tags": []
          }
        },
        {
          "output_type": "stream",
          "text": [
            "\n"
          ],
          "name": "stdout"
        },
        {
          "output_type": "display_data",
          "data": {
            "application/vnd.jupyter.widget-view+json": {
              "model_id": "2a465241355e492d8c13443ea1ffe8c8",
              "version_minor": 0,
              "version_major": 2
            },
            "text/plain": [
              "HBox(children=(FloatProgress(value=0.0, description='Downloading', max=411577189.0, style=ProgressStyle(descri…"
            ]
          },
          "metadata": {
            "tags": []
          }
        },
        {
          "output_type": "stream",
          "text": [
            "\n"
          ],
          "name": "stdout"
        },
        {
          "output_type": "display_data",
          "data": {
            "application/vnd.jupyter.widget-view+json": {
              "model_id": "ea402d0834374d8bb8a1df4a9e2a744f",
              "version_minor": 0,
              "version_major": 2
            },
            "text/plain": [
              "HBox(children=(FloatProgress(value=0.0, description='Downloading', max=109540.0, style=ProgressStyle(descripti…"
            ]
          },
          "metadata": {
            "tags": []
          }
        },
        {
          "output_type": "stream",
          "text": [
            "\n"
          ],
          "name": "stdout"
        },
        {
          "output_type": "display_data",
          "data": {
            "application/vnd.jupyter.widget-view+json": {
              "model_id": "aa886878353242b4b1297289a7740095",
              "version_minor": 0,
              "version_major": 2
            },
            "text/plain": [
              "HBox(children=(FloatProgress(value=0.0, description='Downloading', max=268943.0, style=ProgressStyle(descripti…"
            ]
          },
          "metadata": {
            "tags": []
          }
        },
        {
          "output_type": "stream",
          "text": [
            "\n"
          ],
          "name": "stdout"
        }
      ]
    },
    {
      "cell_type": "code",
      "metadata": {
        "id": "5nAzpBtL0emZ"
      },
      "source": [
        "tdata=[]\r\n",
        "for i in df['SUBTYPE'].values.tolist():\r\n",
        "  tdata.append(str(i))"
      ],
      "execution_count": null,
      "outputs": []
    },
    {
      "cell_type": "code",
      "metadata": {
        "id": "vMIeJn-i0rWo",
        "colab": {
          "base_uri": "https://localhost:8080/"
        },
        "outputId": "19c125c9-5f65-429e-995a-d83bb5517389"
      },
      "source": [
        "!nvidia-smi"
      ],
      "execution_count": null,
      "outputs": [
        {
          "output_type": "stream",
          "text": [
            "Tue Jan  5 09:14:35 2021       \n",
            "+-----------------------------------------------------------------------------+\n",
            "| NVIDIA-SMI 460.27.04    Driver Version: 418.67       CUDA Version: 10.1     |\n",
            "|-------------------------------+----------------------+----------------------+\n",
            "| GPU  Name        Persistence-M| Bus-Id        Disp.A | Volatile Uncorr. ECC |\n",
            "| Fan  Temp  Perf  Pwr:Usage/Cap|         Memory-Usage | GPU-Util  Compute M. |\n",
            "|                               |                      |               MIG M. |\n",
            "|===============================+======================+======================|\n",
            "|   0  Tesla T4            Off  | 00000000:00:04.0 Off |                    0 |\n",
            "| N/A   64C    P0    30W /  70W |   2045MiB / 15079MiB |      0%      Default |\n",
            "|                               |                      |                 ERR! |\n",
            "+-------------------------------+----------------------+----------------------+\n",
            "                                                                               \n",
            "+-----------------------------------------------------------------------------+\n",
            "| Processes:                                                                  |\n",
            "|  GPU   GI   CI        PID   Type   Process name                  GPU Memory |\n",
            "|        ID   ID                                                   Usage      |\n",
            "|=============================================================================|\n",
            "|  No running processes found                                                 |\n",
            "+-----------------------------------------------------------------------------+\n"
          ],
          "name": "stdout"
        }
      ]
    },
    {
      "cell_type": "code",
      "metadata": {
        "id": "XcqhpdX20ASA",
        "colab": {
          "base_uri": "https://localhost:8080/",
          "height": 66,
          "referenced_widgets": [
            "11ee9b815bb04056a5c736c254e109d0",
            "92ac336e87f84254a049e29c052b085c",
            "c7e0c773c2ea46b89ed9cd1c0075e2c2",
            "3b6551d8d8c64068a82d1d37cb05693e",
            "154af707810f4090886c50df8678a13d",
            "dcb668cc82464018bfdc5d3296023f14",
            "64143e4f049f4be1a239c3d50efe50c2",
            "65a193b2a9ba4a05bc647bf16fce90a1"
          ]
        },
        "outputId": "a4d2744d-4215-4462-9878-c2951f610ef8"
      },
      "source": [
        "embeddings = model.encode(tdata, show_progress_bar=True)"
      ],
      "execution_count": null,
      "outputs": [
        {
          "output_type": "display_data",
          "data": {
            "application/vnd.jupyter.widget-view+json": {
              "model_id": "11ee9b815bb04056a5c736c254e109d0",
              "version_minor": 0,
              "version_major": 2
            },
            "text/plain": [
              "HBox(children=(FloatProgress(value=0.0, description='Batches', max=62.0, style=ProgressStyle(description_width…"
            ]
          },
          "metadata": {
            "tags": []
          }
        },
        {
          "output_type": "stream",
          "text": [
            "\n"
          ],
          "name": "stdout"
        }
      ]
    },
    {
      "cell_type": "code",
      "metadata": {
        "id": "Wz_TVp-S0KqF"
      },
      "source": [
        "import numpy as np\r\n",
        "np.save('/content/bert/1976embeddings.npy',embeddings)"
      ],
      "execution_count": null,
      "outputs": []
    },
    {
      "cell_type": "code",
      "metadata": {
        "id": "C-tMolJdfkFA"
      },
      "source": [
        "import numpy as np\r\n",
        "embeddings=np.load('/content/drive/MyDrive/1976embeddings.npy')"
      ],
      "execution_count": null,
      "outputs": []
    },
    {
      "cell_type": "code",
      "metadata": {
        "colab": {
          "base_uri": "https://localhost:8080/"
        },
        "id": "dtHGQYjuB9Up",
        "outputId": "0668040f-2353-4a4e-e99c-291c80d9435d"
      },
      "source": [
        "emdeddings=np.load('/content/drive/MyDrive/embeddings.npy')\r\n",
        "embeddings.shape"
      ],
      "execution_count": null,
      "outputs": [
        {
          "output_type": "execute_result",
          "data": {
            "text/plain": [
              "(1976, 768)"
            ]
          },
          "metadata": {
            "tags": []
          },
          "execution_count": 18
        }
      ]
    },
    {
      "cell_type": "code",
      "metadata": {
        "id": "TPUlVI6G3HG2",
        "colab": {
          "base_uri": "https://localhost:8080/"
        },
        "outputId": "69bc7690-77f6-4a32-cc97-5d3212c10c70"
      },
      "source": [
        "embeddings.shape"
      ],
      "execution_count": null,
      "outputs": [
        {
          "output_type": "execute_result",
          "data": {
            "text/plain": [
              "(1976, 768)"
            ]
          },
          "metadata": {
            "tags": []
          },
          "execution_count": 4
        }
      ]
    },
    {
      "cell_type": "code",
      "metadata": {
        "id": "ghR5B084xXcB"
      },
      "source": [
        "import umap\r\n",
        "umap_embeddings = umap.UMAP(n_neighbors=15,n_components=70,metric='cosine').fit_transform(embeddings)"
      ],
      "execution_count": null,
      "outputs": []
    },
    {
      "cell_type": "code",
      "metadata": {
        "colab": {
          "base_uri": "https://localhost:8080/"
        },
        "id": "9NeoQHdLCGAC",
        "outputId": "c25e11c0-d6c0-4f73-adfd-8520b473e251"
      },
      "source": [
        "import hdbscan\r\n",
        "cluster = hdbscan.HDBSCAN(min_cluster_size=6,metric='euclidean',                      \r\n",
        "cluster_selection_method='eom').fit(umap_embeddings)\r\n",
        "len(set(cluster.labels_))"
      ],
      "execution_count": null,
      "outputs": [
        {
          "output_type": "execute_result",
          "data": {
            "text/plain": [
              "11"
            ]
          },
          "metadata": {
            "tags": []
          },
          "execution_count": 20
        }
      ]
    },
    {
      "cell_type": "code",
      "metadata": {
        "colab": {
          "base_uri": "https://localhost:8080/",
          "height": 282
        },
        "id": "Bl2wn089CNae",
        "outputId": "3bc291cc-9407-4bf6-84b5-6ef861840ce9"
      },
      "source": [
        "import pandas as pd\r\n",
        "df = pd.DataFrame(cluster.labels_)\r\n",
        "df.plot()"
      ],
      "execution_count": null,
      "outputs": [
        {
          "output_type": "execute_result",
          "data": {
            "text/plain": [
              "<matplotlib.axes._subplots.AxesSubplot at 0x7fa43fba6d68>"
            ]
          },
          "metadata": {
            "tags": []
          },
          "execution_count": 22
        },
        {
          "output_type": "display_data",
          "data": {
            "image/png": "[encoded data removed]",
            "text/plain": [
              "<Figure size 432x288 with 1 Axes>"
            ]
          },
          "metadata": {
            "tags": []
          }
        }
      ]
    },
    {
      "cell_type": "code",
      "metadata": {
        "id": "vNbCIS29CvRI",
        "colab": {
          "base_uri": "https://localhost:8080/",
          "height": 195
        },
        "outputId": "b048f0fe-4c98-458b-b532-ad084bdb19d3"
      },
      "source": [
        "df.head()"
      ],
      "execution_count": null,
      "outputs": [
        {
          "output_type": "execute_result",
          "data": {
            "text/html": [
              "<div>\n",
              "<style scoped>\n",
              "    .dataframe tbody tr th:only-of-type {\n",
              "        vertical-align: middle;\n",
              "    }\n",
              "\n",
              "    .dataframe tbody tr th {\n",
              "        vertical-align: top;\n",
              "    }\n",
              "\n",
              "    .dataframe thead th {\n",
              "        text-align: right;\n",
              "    }\n",
              "</style>\n",
              "<table border=\"1\" class=\"dataframe\">\n",
              "  <thead>\n",
              "    <tr style=\"text-align: right;\">\n",
              "      <th></th>\n",
              "      <th>0</th>\n",
              "    </tr>\n",
              "  </thead>\n",
              "  <tbody>\n",
              "    <tr>\n",
              "      <th>0</th>\n",
              "      <td>4</td>\n",
              "    </tr>\n",
              "    <tr>\n",
              "      <th>1</th>\n",
              "      <td>4</td>\n",
              "    </tr>\n",
              "    <tr>\n",
              "      <th>2</th>\n",
              "      <td>4</td>\n",
              "    </tr>\n",
              "    <tr>\n",
              "      <th>3</th>\n",
              "      <td>4</td>\n",
              "    </tr>\n",
              "    <tr>\n",
              "      <th>4</th>\n",
              "      <td>4</td>\n",
              "    </tr>\n",
              "  </tbody>\n",
              "</table>\n",
              "</div>"
            ],
            "text/plain": [
              "   0\n",
              "0  4\n",
              "1  4\n",
              "2  4\n",
              "3  4\n",
              "4  4"
            ]
          },
          "metadata": {
            "tags": []
          },
          "execution_count": 24
        }
      ]
    },
    {
      "cell_type": "code",
      "metadata": {
        "colab": {
          "base_uri": "https://localhost:8080/"
        },
        "id": "79Bu68sqCenF",
        "outputId": "3bd25bbd-af7b-4026-ca08-d7c579870e55"
      },
      "source": [
        "df.groupby(0).size()"
      ],
      "execution_count": null,
      "outputs": [
        {
          "output_type": "execute_result",
          "data": {
            "text/plain": [
              "0\n",
              "-1      27\n",
              " 0      12\n",
              " 1     158\n",
              " 2      61\n",
              " 3      48\n",
              " 4    1588\n",
              " 5       7\n",
              " 6      12\n",
              " 7      28\n",
              " 8      17\n",
              " 9      18\n",
              "dtype: int64"
            ]
          },
          "metadata": {
            "tags": []
          },
          "execution_count": 26
        }
      ]
    },
    {
      "cell_type": "code",
      "metadata": {
        "colab": {
          "base_uri": "https://localhost:8080/"
        },
        "id": "jniAj2NHyLFQ",
        "outputId": "b7c7b2c8-886e-42c6-de0e-da4efbf100ce"
      },
      "source": [
        "umap_embeddings.shape"
      ],
      "execution_count": null,
      "outputs": [
        {
          "output_type": "execute_result",
          "data": {
            "text/plain": [
              "(1976, 70)"
            ]
          },
          "metadata": {
            "tags": []
          },
          "execution_count": 6
        }
      ]
    },
    {
      "cell_type": "code",
      "metadata": {
        "id": "qIngfS8SxesJ",
        "colab": {
          "base_uri": "https://localhost:8080/"
        },
        "outputId": "d205f011-a1ed-4597-c578-6ea344acc9ed"
      },
      "source": [
        "import hdbscan\r\n",
        "cluster = hdbscan.HDBSCAN(min_cluster_size=6,metric='euclidean',                      \r\n",
        "cluster_selection_method='eom').fit(umap_embeddings)\r\n",
        "len(set(cluster.labels_))"
      ],
      "execution_count": null,
      "outputs": [
        {
          "output_type": "execute_result",
          "data": {
            "text/plain": [
              "8"
            ]
          },
          "metadata": {
            "tags": []
          },
          "execution_count": 11
        }
      ]
    },
    {
      "cell_type": "code",
      "metadata": {
        "id": "EhqovC-ABxI8"
      },
      "source": [
        ""
      ],
      "execution_count": null,
      "outputs": []
    },
    {
      "cell_type": "code",
      "metadata": {
        "id": "PQqPe-VM1rs4"
      },
      "source": [
        "import matplotlib.pyplot as plt\r\n",
        "plt.style.use('ggplot')#将背景颜色改为。。"
      ],
      "execution_count": null,
      "outputs": []
    },
    {
      "cell_type": "code",
      "metadata": {
        "id": "5yFaj_czxhMB",
        "colab": {
          "base_uri": "https://localhost:8080/",
          "height": 324
        },
        "outputId": "ea7b3ce4-5ec7-400f-bbf9-2b19abbeda65"
      },
      "source": [
        "# Prepare data\r\n",
        "import pandas as pd\r\n",
        "umap_data = umap.UMAP(n_neighbors=15, n_components=2, min_dist=0.0, metric='cosine').fit_transform(embeddings)\r\n",
        "result = pd.DataFrame(umap_data, columns=['x', 'y'])\r\n",
        "result['labels'] = cluster.labels_\r\n",
        "\r\n",
        "# Visualize clusters\r\n",
        "fig, ax = plt.subplots(figsize=(10, 5))\r\n",
        "outliers = result.loc[result.labels == -1, :]\r\n",
        "clustered = result.loc[result.labels != -1, :]\r\n",
        "plt.scatter(outliers.x, outliers.y, color='#BDBDBD', s=1)\r\n",
        "plt.scatter(clustered.x, clustered.y, c=clustered.labels, s=2, cmap='hsv_r')\r\n",
        "plt.colorbar()\r\n",
        "# plt.savefig('/content/drive/MyDrive/bertword70_31.svg')\r\n",
        "plt.savefig('/content/drive/MyDrive/bertword2021.svg')"
      ],
      "execution_count": null,
      "outputs": [
        {
          "output_type": "display_data",
          "data": {
            "image/png": "[encoded data removed]",
            "text/plain": [
              "<Figure size 720x360 with 2 Axes>"
            ]
          },
          "metadata": {
            "tags": []
          }
        }
      ]
    },
    {
      "cell_type": "code",
      "metadata": {
        "colab": {
          "base_uri": "https://localhost:8080/"
        },
        "id": "9MnCO-wc8fAe",
        "outputId": "6866b714-4e51-4478-941d-5f262571644e"
      },
      "source": [
        "cluster.labels_"
      ],
      "execution_count": null,
      "outputs": [
        {
          "output_type": "execute_result",
          "data": {
            "text/plain": [
              "array([3, 3, 3, ..., 3, 3, 3])"
            ]
          },
          "metadata": {
            "tags": []
          },
          "execution_count": 11
        }
      ]
    },
    {
      "cell_type": "code",
      "metadata": {
        "id": "asWxCKXl3x57"
      },
      "source": [
        "df['Topic'] = cluster.labels_"
      ],
      "execution_count": null,
      "outputs": []
    },
    {
      "cell_type": "code",
      "metadata": {
        "id": "tHWy9uBexjkO"
      },
      "source": [
        "df['Doc_ID'] = range(len(df))"
      ],
      "execution_count": null,
      "outputs": []
    },
    {
      "cell_type": "code",
      "metadata": {
        "id": "Jals96Mt4ReY"
      },
      "source": [
        "df=df.fillna(\"\")"
      ],
      "execution_count": null,
      "outputs": []
    },
    {
      "cell_type": "code",
      "metadata": {
        "id": "pH8Mt2i7iFhS"
      },
      "source": [
        "# docs_df=pd.read_csv('/content/drive/MyDrive/bertword310105.csv')\r\n",
        "# df=docs_df"
      ],
      "execution_count": null,
      "outputs": []
    },
    {
      "cell_type": "code",
      "metadata": {
        "id": "MX_WPND14HBp"
      },
      "source": [
        "docs_per_topic = df.groupby(['Topic'], as_index = False).agg({'SUBTYPE': ' '.join})"
      ],
      "execution_count": null,
      "outputs": []
    },
    {
      "cell_type": "code",
      "metadata": {
        "id": "tdZb6XCN4b0y"
      },
      "source": [
        "docs_per_topic.shape"
      ],
      "execution_count": null,
      "outputs": []
    },
    {
      "cell_type": "code",
      "metadata": {
        "id": "98gZ8orT4e3A"
      },
      "source": [
        "docs_per_topic.head()"
      ],
      "execution_count": null,
      "outputs": []
    },
    {
      "cell_type": "code",
      "metadata": {
        "id": "L5VVoqxm4urY",
        "colab": {
          "base_uri": "https://localhost:8080/"
        },
        "outputId": "787e9167-68e8-439d-b978-431dfaf4046c"
      },
      "source": [
        "import numpy as np\r\n",
        "from sklearn.feature_extraction.text import CountVectorizer\r\n",
        "\r\n",
        "def c_tf_idf(documents, m, ngram_range=(1, 1)):\r\n",
        "    count = CountVectorizer(ngram_range=ngram_range, stop_words=\"english\").fit(documents)\r\n",
        "    t = count.transform(documents).toarray()\r\n",
        "    w = t.sum(axis=1)\r\n",
        "    tf = np.divide(t.T, w)\r\n",
        "    sum_t = t.sum(axis=0)\r\n",
        "    idf = np.log(np.divide(m, sum_t)).reshape(-1, 1)\r\n",
        "    tf_idf = np.multiply(tf, idf)\r\n",
        "\r\n",
        "    return tf_idf, count\r\n",
        "  \r\n",
        "tf_idf, count = c_tf_idf(docs_per_topic.SUBTYPE.values, m=df.shape[0])"
      ],
      "execution_count": null,
      "outputs": [
        {
          "output_type": "stream",
          "text": [
            "/usr/local/lib/python3.6/dist-packages/ipykernel_launcher.py:8: RuntimeWarning: invalid value encountered in true_divide\n",
            "  \n"
          ],
          "name": "stderr"
        }
      ]
    },
    {
      "cell_type": "code",
      "metadata": {
        "id": "4bpl49cF48gF",
        "colab": {
          "base_uri": "https://localhost:8080/",
          "height": 288
        },
        "outputId": "4c85b7aa-61e6-46c1-d84c-376092d2651f"
      },
      "source": [
        "def extract_top_n_words_per_topic(tf_idf, count, docs_per_topic, n=20):\r\n",
        "    words = count.get_feature_names()\r\n",
        "    labels = list(docs_per_topic.Topic)\r\n",
        "    tf_idf_transposed = tf_idf.T\r\n",
        "    indices = tf_idf_transposed.argsort()[:, -n:]\r\n",
        "    top_n_words = {label: [(words[j], tf_idf_transposed[i][j]) for j in indices[i]][::-1] for i, label in enumerate(labels)}\r\n",
        "    return top_n_words\r\n",
        "\r\n",
        "def extract_topic_sizes(df):\r\n",
        "    topic_sizes = (df.groupby(['Topic'])\r\n",
        "                     .SUBTYPE\r\n",
        "                     .count()\r\n",
        "                     .reset_index()\r\n",
        "                     .rename({\"Topic\": \"Topic\", \"SUBTYPE\": \"Size\"}, axis='columns')\r\n",
        "                     .sort_values(\"Size\", ascending=False))\r\n",
        "    return topic_sizes\r\n",
        "\r\n",
        "top_n_words = extract_top_n_words_per_topic(tf_idf, count, docs_per_topic, n=20)\r\n",
        "topic_sizes = extract_topic_sizes(df); topic_sizes.head(10)"
      ],
      "execution_count": null,
      "outputs": [
        {
          "output_type": "execute_result",
          "data": {
            "text/html": [
              "<div>\n",
              "<style scoped>\n",
              "    .dataframe tbody tr th:only-of-type {\n",
              "        vertical-align: middle;\n",
              "    }\n",
              "\n",
              "    .dataframe tbody tr th {\n",
              "        vertical-align: top;\n",
              "    }\n",
              "\n",
              "    .dataframe thead th {\n",
              "        text-align: right;\n",
              "    }\n",
              "</style>\n",
              "<table border=\"1\" class=\"dataframe\">\n",
              "  <thead>\n",
              "    <tr style=\"text-align: right;\">\n",
              "      <th></th>\n",
              "      <th>Topic</th>\n",
              "      <th>Size</th>\n",
              "    </tr>\n",
              "  </thead>\n",
              "  <tbody>\n",
              "    <tr>\n",
              "      <th>4</th>\n",
              "      <td>4</td>\n",
              "      <td>1585</td>\n",
              "    </tr>\n",
              "    <tr>\n",
              "      <th>1</th>\n",
              "      <td>1</td>\n",
              "      <td>158</td>\n",
              "    </tr>\n",
              "    <tr>\n",
              "      <th>6</th>\n",
              "      <td>6</td>\n",
              "      <td>91</td>\n",
              "    </tr>\n",
              "    <tr>\n",
              "      <th>2</th>\n",
              "      <td>2</td>\n",
              "      <td>61</td>\n",
              "    </tr>\n",
              "    <tr>\n",
              "      <th>3</th>\n",
              "      <td>3</td>\n",
              "      <td>51</td>\n",
              "    </tr>\n",
              "    <tr>\n",
              "      <th>0</th>\n",
              "      <td>0</td>\n",
              "      <td>12</td>\n",
              "    </tr>\n",
              "    <tr>\n",
              "      <th>7</th>\n",
              "      <td>7</td>\n",
              "      <td>12</td>\n",
              "    </tr>\n",
              "    <tr>\n",
              "      <th>5</th>\n",
              "      <td>5</td>\n",
              "      <td>6</td>\n",
              "    </tr>\n",
              "  </tbody>\n",
              "</table>\n",
              "</div>"
            ],
            "text/plain": [
              "   Topic  Size\n",
              "4      4  1585\n",
              "1      1   158\n",
              "6      6    91\n",
              "2      2    61\n",
              "3      3    51\n",
              "0      0    12\n",
              "7      7    12\n",
              "5      5     6"
            ]
          },
          "metadata": {
            "tags": []
          },
          "execution_count": 18
        }
      ]
    },
    {
      "cell_type": "code",
      "metadata": {
        "id": "dCYE8e7y9sDw",
        "colab": {
          "base_uri": "https://localhost:8080/"
        },
        "outputId": "9656096f-053e-49f7-b425-ee4d9ac4346d"
      },
      "source": [
        "len(set(df['Topic'].values.tolist()))"
      ],
      "execution_count": null,
      "outputs": [
        {
          "output_type": "execute_result",
          "data": {
            "text/plain": [
              "8"
            ]
          },
          "metadata": {
            "tags": []
          },
          "execution_count": 19
        }
      ]
    },
    {
      "cell_type": "code",
      "metadata": {
        "id": "VAvJiead6kH6",
        "colab": {
          "base_uri": "https://localhost:8080/"
        },
        "outputId": "c403a818-1fdf-47d9-d212-6aff8abfc461"
      },
      "source": [
        "top_n_words[7][:10]"
      ],
      "execution_count": null,
      "outputs": [
        {
          "output_type": "execute_result",
          "data": {
            "text/plain": [
              "[('自然地名', 0.16695116171599933),\n",
              " ('港口码头', 0.07894615929089324),\n",
              " ('高尔夫相关', 0.0),\n",
              " ('天文馆', 0.0),\n",
              " ('大众特约销售', 0.0),\n",
              " ('大众特约维修', 0.0),\n",
              " ('外国餐厅', -0.0),\n",
              " ('外国机构', 0.0),\n",
              " ('培训机构', -0.0),\n",
              " ('地铁站', 0.0)]"
            ]
          },
          "metadata": {
            "tags": []
          },
          "execution_count": 34
        }
      ]
    },
    {
      "cell_type": "code",
      "metadata": {
        "colab": {
          "base_uri": "https://localhost:8080/"
        },
        "id": "CJgc7d9Z56Ea",
        "outputId": "9fa9c0af-53c0-4dfe-e719-d89c7860a31c"
      },
      "source": [
        "top_n_words[6][:10]"
      ],
      "execution_count": null,
      "outputs": [
        {
          "output_type": "execute_result",
          "data": {
            "text/plain": [
              "[('风景名胜相关', 0.029006695808003684),\n",
              " ('公园广场', 0.013974440551682829),\n",
              " ('售票处', 0.010524477281927978),\n",
              " ('港口码头', 0.007128720353879166),\n",
              " ('农林牧渔基地', 0.004288471194352906),\n",
              " ('展览馆', 0.0036093491103563937),\n",
              " ('会展中心', 0.0033492413885522847),\n",
              " ('博物馆', 0.003257483306880364),\n",
              " ('公用电话', 0.0028883027979734904),\n",
              " ('人才市场', 0.00288460020796483)]"
            ]
          },
          "metadata": {
            "tags": []
          },
          "execution_count": 28
        }
      ]
    },
    {
      "cell_type": "code",
      "metadata": {
        "colab": {
          "base_uri": "https://localhost:8080/"
        },
        "id": "WoTMOVCe56uC",
        "outputId": "76677507-335f-450a-a237-479cf8de4a20"
      },
      "source": [
        "top_n_words[0][:10]"
      ],
      "execution_count": null,
      "outputs": [
        {
          "output_type": "execute_result",
          "data": {
            "text/plain": [
              "[('高尔夫相关', 0.0),\n",
              " ('奥迪特约维修', 0.0),\n",
              " ('奔驰特约维修', 0.0),\n",
              " ('奇瑞特约销售', 0.0),\n",
              " ('奇瑞特约维修', 0.0),\n",
              " ('天文馆', 0.0),\n",
              " ('大众特约销售', 0.0),\n",
              " ('大众特约维修', 0.0),\n",
              " ('外国餐厅', -0.0),\n",
              " ('外国机构', 0.0)]"
            ]
          },
          "metadata": {
            "tags": []
          },
          "execution_count": 22
        }
      ]
    },
    {
      "cell_type": "code",
      "metadata": {
        "colab": {
          "base_uri": "https://localhost:8080/"
        },
        "id": "LDdV1adj5-sY",
        "outputId": "6138df20-4fb6-497a-a569-da94f958aa26"
      },
      "source": [
        "top_n_words[1][:10]"
      ],
      "execution_count": null,
      "outputs": [
        {
          "output_type": "execute_result",
          "data": {
            "text/plain": [
              "[('高尔夫相关', nan),\n",
              " ('商场', nan),\n",
              " ('奇瑞特约销售', nan),\n",
              " ('奇瑞特约维修', nan),\n",
              " ('天文馆', nan),\n",
              " ('大众特约销售', nan),\n",
              " ('大众特约维修', nan),\n",
              " ('外国餐厅', nan),\n",
              " ('外国机构', nan),\n",
              " ('培训机构', nan)]"
            ]
          },
          "metadata": {
            "tags": []
          },
          "execution_count": 23
        }
      ]
    },
    {
      "cell_type": "code",
      "metadata": {
        "colab": {
          "base_uri": "https://localhost:8080/"
        },
        "id": "JjlNA3yz6Ac6",
        "outputId": "deb7a56e-20be-42b2-ae7f-2ac8c3f63947"
      },
      "source": [
        "top_n_words[2][:10]"
      ],
      "execution_count": null,
      "outputs": [
        {
          "output_type": "execute_result",
          "data": {
            "text/plain": [
              "[('高尔夫相关', nan),\n",
              " ('商场', nan),\n",
              " ('奇瑞特约销售', nan),\n",
              " ('奇瑞特约维修', nan),\n",
              " ('天文馆', nan),\n",
              " ('大众特约销售', nan),\n",
              " ('大众特约维修', nan),\n",
              " ('外国餐厅', nan),\n",
              " ('外国机构', nan),\n",
              " ('培训机构', nan)]"
            ]
          },
          "metadata": {
            "tags": []
          },
          "execution_count": 24
        }
      ]
    },
    {
      "cell_type": "code",
      "metadata": {
        "colab": {
          "base_uri": "https://localhost:8080/"
        },
        "id": "RBanqqmm6Cuz",
        "outputId": "80111600-c4ca-417c-aeda-4a4211ee7950"
      },
      "source": [
        "top_n_words[3][:10]"
      ],
      "execution_count": null,
      "outputs": [
        {
          "output_type": "execute_result",
          "data": {
            "text/plain": [
              "[('摩托车服务相关', 0.005800248507882652),\n",
              " ('购物相关场所', 0.002481645818840133),\n",
              " ('综合市场', 0.002190413878195151),\n",
              " ('超级市场', 0.0020630456020089933),\n",
              " ('普通地名', 0.0019683654107277176),\n",
              " ('宝马特约维修', 0.001959968728866961),\n",
              " ('婴儿服务场所', 0.001679455877153459),\n",
              " ('服装鞋帽皮具店', 0.0016438951043046923),\n",
              " ('工商税务机构', 0.0015355313920616689),\n",
              " ('工厂', 0.0014567059983814604)]"
            ]
          },
          "metadata": {
            "tags": []
          },
          "execution_count": 25
        }
      ]
    },
    {
      "cell_type": "code",
      "metadata": {
        "colab": {
          "base_uri": "https://localhost:8080/"
        },
        "id": "ULrjBITB6Fk0",
        "outputId": "af7f2feb-3852-4e31-fe27-cdfd071ab131"
      },
      "source": [
        "top_n_words[4][:10]"
      ],
      "execution_count": null,
      "outputs": [
        {
          "output_type": "execute_result",
          "data": {
            "text/plain": [
              "[('保险公司', 0.0012792250831333537),\n",
              " ('工厂', 0.0012545415011894214),\n",
              " ('加油站', 0.0012494017898650454),\n",
              " ('火车站', 0.0012465775745541),\n",
              " ('邮局', 0.0012442489022766042),\n",
              " ('汽车租赁', 0.0012391160293709859),\n",
              " ('甜品店', 0.001237883818710092),\n",
              " ('影剧院', 0.0012300992161805796),\n",
              " ('工商税务机构', 0.0012244484252401451),\n",
              " ('度假疗养场所', 0.0012227789467106908)]"
            ]
          },
          "metadata": {
            "tags": []
          },
          "execution_count": 26
        }
      ]
    },
    {
      "cell_type": "code",
      "metadata": {
        "colab": {
          "base_uri": "https://localhost:8080/"
        },
        "id": "Nh24Jo5V6Huf",
        "outputId": "4358a155-84b7-4172-a7be-a9119aad4b3a"
      },
      "source": [
        "top_n_words[5][:10]"
      ],
      "execution_count": null,
      "outputs": [
        {
          "output_type": "execute_result",
          "data": {
            "text/plain": [
              "[('风景名胜相关', 0.27963289483974774),\n",
              " ('高尔夫相关', 0.0),\n",
              " ('商场', 0.0),\n",
              " ('奇瑞特约销售', 0.0),\n",
              " ('奇瑞特约维修', 0.0),\n",
              " ('天文馆', 0.0),\n",
              " ('大众特约销售', 0.0),\n",
              " ('大众特约维修', 0.0),\n",
              " ('外国餐厅', -0.0),\n",
              " ('外国机构', 0.0)]"
            ]
          },
          "metadata": {
            "tags": []
          },
          "execution_count": 27
        }
      ]
    },
    {
      "cell_type": "code",
      "metadata": {
        "id": "vwEjZXVp-BG-"
      },
      "source": [
        "docs_df.to_csv('/content/bert/bertword310105.csv',index=None)"
      ],
      "execution_count": null,
      "outputs": []
    },
    {
      "cell_type": "code",
      "metadata": {
        "id": "orDUmKe5hzJ3"
      },
      "source": [
        "docs_df=pd.read_csv('/content/drive/MyDrive/bertword310105.csv')"
      ],
      "execution_count": null,
      "outputs": []
    },
    {
      "cell_type": "code",
      "metadata": {
        "colab": {
          "base_uri": "https://localhost:8080/",
          "height": 285
        },
        "id": "K5lqy4vhh7XP",
        "outputId": "6ae02df8-7a3d-435e-8733-9b3dc5ae1dc7"
      },
      "source": [
        "docs_df.head()"
      ],
      "execution_count": null,
      "outputs": [
        {
          "output_type": "execute_result",
          "data": {
            "text/html": [
              "<div>\n",
              "<style scoped>\n",
              "    .dataframe tbody tr th:only-of-type {\n",
              "        vertical-align: middle;\n",
              "    }\n",
              "\n",
              "    .dataframe tbody tr th {\n",
              "        vertical-align: top;\n",
              "    }\n",
              "\n",
              "    .dataframe thead th {\n",
              "        text-align: right;\n",
              "    }\n",
              "</style>\n",
              "<table border=\"1\" class=\"dataframe\">\n",
              "  <thead>\n",
              "    <tr style=\"text-align: right;\">\n",
              "      <th></th>\n",
              "      <th>CATEGORY</th>\n",
              "      <th>IDS</th>\n",
              "      <th>NUMS</th>\n",
              "      <th>SUBTYPE</th>\n",
              "      <th>Topic</th>\n",
              "      <th>Doc_ID</th>\n",
              "    </tr>\n",
              "  </thead>\n",
              "  <tbody>\n",
              "    <tr>\n",
              "      <th>0</th>\n",
              "      <td>政府及社会团体相关 政府机关相关 生活服务场所 乡镇以下级政府及事业单位 乡镇以下级政府及事...</td>\n",
              "      <td>0</td>\n",
              "      <td>11</td>\n",
              "      <td>政府及社会团体相关 政府机关 生活服务场所 政府机关 政府机关 政府机关 临街院门 物流速递...</td>\n",
              "      <td>21</td>\n",
              "      <td>0</td>\n",
              "    </tr>\n",
              "    <tr>\n",
              "      <th>1</th>\n",
              "      <td>物流速递 政府及社会团体相关</td>\n",
              "      <td>1</td>\n",
              "      <td>2</td>\n",
              "      <td>物流速递 政府及社会团体相关</td>\n",
              "      <td>-1</td>\n",
              "      <td>1</td>\n",
              "    </tr>\n",
              "    <tr>\n",
              "      <th>2</th>\n",
              "      <td>其它农林牧渔基地 物流速递 汽车维修 公司 餐饮相关 餐饮相关 中餐厅 快餐厅 公交车站相关...</td>\n",
              "      <td>2</td>\n",
              "      <td>27</td>\n",
              "      <td>农林牧渔基地 物流速递 汽车维修 公司 餐饮相关场所 餐饮相关场所 中餐厅 快餐厅 公交车站...</td>\n",
              "      <td>-1</td>\n",
              "      <td>2</td>\n",
              "    </tr>\n",
              "    <tr>\n",
              "      <th>3</th>\n",
              "      <td>路口名 餐饮相关 公证鉴定机构 公司 小学</td>\n",
              "      <td>3</td>\n",
              "      <td>5</td>\n",
              "      <td>交通地名 餐饮相关场所 公检法机构 公司 学校</td>\n",
              "      <td>-1</td>\n",
              "      <td>3</td>\n",
              "    </tr>\n",
              "    <tr>\n",
              "      <th>4</th>\n",
              "      <td>餐饮相关</td>\n",
              "      <td>4</td>\n",
              "      <td>1</td>\n",
              "      <td>餐饮相关场所</td>\n",
              "      <td>10</td>\n",
              "      <td>4</td>\n",
              "    </tr>\n",
              "  </tbody>\n",
              "</table>\n",
              "</div>"
            ],
            "text/plain": [
              "                                            CATEGORY  IDS  ...  Topic Doc_ID\n",
              "0  政府及社会团体相关 政府机关相关 生活服务场所 乡镇以下级政府及事业单位 乡镇以下级政府及事...    0  ...     21      0\n",
              "1                                     物流速递 政府及社会团体相关    1  ...     -1      1\n",
              "2  其它农林牧渔基地 物流速递 汽车维修 公司 餐饮相关 餐饮相关 中餐厅 快餐厅 公交车站相关...    2  ...     -1      2\n",
              "3                              路口名 餐饮相关 公证鉴定机构 公司 小学    3  ...     -1      3\n",
              "4                                               餐饮相关    4  ...     10      4\n",
              "\n",
              "[5 rows x 6 columns]"
            ]
          },
          "metadata": {
            "tags": []
          },
          "execution_count": 24
        }
      ]
    },
    {
      "cell_type": "code",
      "metadata": {
        "id": "jGhNTksl6nq9"
      },
      "source": [
        "top_n_words[4][:10]"
      ],
      "execution_count": null,
      "outputs": []
    },
    {
      "cell_type": "code",
      "metadata": {
        "id": "Kv2ZcwlP7i5m"
      },
      "source": [
        "from numpy import isnan\r\n",
        "# where_are_NaNs = isnan(tf_idf)\r\n",
        "# tf_idf[where_are_NaNs] = 0\r\n",
        "tf_idf[np.isnan(tf_idf)] = 0"
      ],
      "execution_count": null,
      "outputs": []
    },
    {
      "cell_type": "code",
      "metadata": {
        "id": "_IB4ozM-61Gb"
      },
      "source": [
        "docs_df=df\r\n",
        "from sklearn.metrics.pairwise import cosine_similarity\r\n",
        "for i in range(20):\r\n",
        "    # Calculate cosine similarity\r\n",
        "    tmp=tf_idf.T\r\n",
        "    tmp[np.isnan(tmp)] = 0\r\n",
        "    #缺失值处理\r\n",
        "    similarities = cosine_similarity(tmp)\r\n",
        "    np.fill_diagonal(similarities, 0)\r\n",
        "\r\n",
        "    # Extract label to merge into and from where\r\n",
        "    topic_sizes = docs_df.groupby(['Topic']).count().sort_values(\"SUBTYPE\", ascending=False).reset_index()\r\n",
        "    topic_to_merge = topic_sizes.iloc[-1].Topic\r\n",
        "    topic_to_merge_into = np.argmax(similarities[topic_to_merge + 1]) - 1\r\n",
        "\r\n",
        "    # Adjust topics\r\n",
        "    docs_df.loc[docs_df.Topic == topic_to_merge, \"Topic\"] = topic_to_merge_into\r\n",
        "    old_topics = docs_df.sort_values(\"Topic\").Topic.unique()\r\n",
        "    map_topics = {old_topic: index - 1 for index, old_topic in enumerate(old_topics)}\r\n",
        "    docs_df.Topic = docs_df.Topic.map(map_topics)\r\n",
        "    docs_per_topic = docs_df.groupby(['Topic'], as_index = False).agg({'SUBTYPE': ' '.join})\r\n",
        "\r\n",
        "    # Calculate new topic words\r\n",
        "    m=df.shape[0]\r\n",
        "    tf_idf, count = c_tf_idf(docs_per_topic.SUBTYPE.values, m)\r\n",
        "    top_n_words = extract_top_n_words_per_topic(tf_idf, count, docs_per_topic, n=20)\r\n",
        "\r\n",
        "topic_sizes = extract_topic_sizes(docs_df); topic_sizes.head(10)"
      ],
      "execution_count": null,
      "outputs": []
    },
    {
      "cell_type": "code",
      "metadata": {
        "id": "XRSpQqZH7H1k"
      },
      "source": [
        "docs_df.head()"
      ],
      "execution_count": null,
      "outputs": []
    },
    {
      "cell_type": "code",
      "metadata": {
        "id": "p8Sonq1G8hD5"
      },
      "source": [
        "set(docs_df['Topic'].values.tolist())"
      ],
      "execution_count": null,
      "outputs": []
    },
    {
      "cell_type": "code",
      "metadata": {
        "id": "8k_mCp8R852k"
      },
      "source": [
        "docs_df.to_csv('/content/bert/bertword7.csv',index=None)"
      ],
      "execution_count": null,
      "outputs": []
    }
  ]
}