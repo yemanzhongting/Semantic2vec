{
 "cells": [
  {
   "cell_type": "code",
   "execution_count": 1,
   "metadata": {},
   "outputs": [],
   "source": [
    "import pandas as pd"
   ]
  },
  {
   "cell_type": "code",
   "execution_count": 4,
   "metadata": {},
   "outputs": [
    {
     "data": {
      "text/html": [
       "<div>\n",
       "<style scoped>\n",
       "    .dataframe tbody tr th:only-of-type {\n",
       "        vertical-align: middle;\n",
       "    }\n",
       "\n",
       "    .dataframe tbody tr th {\n",
       "        vertical-align: top;\n",
       "    }\n",
       "\n",
       "    .dataframe thead th {\n",
       "        text-align: right;\n",
       "    }\n",
       "</style>\n",
       "<table border=\"1\" class=\"dataframe\">\n",
       "  <thead>\n",
       "    <tr style=\"text-align: right;\">\n",
       "      <th></th>\n",
       "      <th>area</th>\n",
       "      <th>count</th>\n",
       "      <th>分类</th>\n",
       "      <th>NUMS</th>\n",
       "      <th>Topic</th>\n",
       "    </tr>\n",
       "  </thead>\n",
       "  <tbody>\n",
       "    <tr>\n",
       "      <th>0</th>\n",
       "      <td>雄楚大道公安厅门前辅道（石牌岭西路至丁字桥螺口方向）</td>\n",
       "      <td>1</td>\n",
       "      <td>城市主干道</td>\n",
       "      <td>988</td>\n",
       "      <td>-1</td>\n",
       "    </tr>\n",
       "    <tr>\n",
       "      <th>1</th>\n",
       "      <td>东湖景园路段</td>\n",
       "      <td>10</td>\n",
       "      <td>城市主干道</td>\n",
       "      <td>175</td>\n",
       "      <td>6</td>\n",
       "    </tr>\n",
       "    <tr>\n",
       "      <th>2</th>\n",
       "      <td>汉阳区四新北路红星美凯龙门口</td>\n",
       "      <td>24</td>\n",
       "      <td>城市主干道</td>\n",
       "      <td>55</td>\n",
       "      <td>-1</td>\n",
       "    </tr>\n",
       "    <tr>\n",
       "      <th>3</th>\n",
       "      <td>风景区二环线东湖景园路段</td>\n",
       "      <td>10</td>\n",
       "      <td>城市主干道</td>\n",
       "      <td>175</td>\n",
       "      <td>6</td>\n",
       "    </tr>\n",
       "    <tr>\n",
       "      <th>4</th>\n",
       "      <td>紫阳东路东安路口</td>\n",
       "      <td>10</td>\n",
       "      <td>城市次干道</td>\n",
       "      <td>618</td>\n",
       "      <td>6</td>\n",
       "    </tr>\n",
       "    <tr>\n",
       "      <th>...</th>\n",
       "      <td>...</td>\n",
       "      <td>...</td>\n",
       "      <td>...</td>\n",
       "      <td>...</td>\n",
       "      <td>...</td>\n",
       "    </tr>\n",
       "    <tr>\n",
       "      <th>96</th>\n",
       "      <td>东湖风景区白马小路至果批段</td>\n",
       "      <td>25</td>\n",
       "      <td>高架及快速路</td>\n",
       "      <td>150</td>\n",
       "      <td>-1</td>\n",
       "    </tr>\n",
       "    <tr>\n",
       "      <th>97</th>\n",
       "      <td>经开区四新南路新华园二路6处</td>\n",
       "      <td>34</td>\n",
       "      <td>城市主干道</td>\n",
       "      <td>141</td>\n",
       "      <td>4</td>\n",
       "    </tr>\n",
       "    <tr>\n",
       "      <th>98</th>\n",
       "      <td>洪山区虎泉街保利华都1处</td>\n",
       "      <td>5</td>\n",
       "      <td>城市支路</td>\n",
       "      <td>715</td>\n",
       "      <td>-1</td>\n",
       "    </tr>\n",
       "    <tr>\n",
       "      <th>99</th>\n",
       "      <td>武胜路电车公司</td>\n",
       "      <td>4</td>\n",
       "      <td>城市主干道</td>\n",
       "      <td>1450</td>\n",
       "      <td>4</td>\n",
       "    </tr>\n",
       "    <tr>\n",
       "      <th>100</th>\n",
       "      <td>武昌片区</td>\n",
       "      <td>5</td>\n",
       "      <td>城市主干道</td>\n",
       "      <td>776</td>\n",
       "      <td>5</td>\n",
       "    </tr>\n",
       "  </tbody>\n",
       "</table>\n",
       "<p>101 rows × 5 columns</p>\n",
       "</div>"
      ],
      "text/plain": [
       "                           area  count      分类  NUMS  Topic\n",
       "0    雄楚大道公安厅门前辅道（石牌岭西路至丁字桥螺口方向）      1   城市主干道   988     -1\n",
       "1                        东湖景园路段     10   城市主干道   175      6\n",
       "2                汉阳区四新北路红星美凯龙门口     24   城市主干道    55     -1\n",
       "3                  风景区二环线东湖景园路段     10   城市主干道   175      6\n",
       "4                      紫阳东路东安路口     10   城市次干道   618      6\n",
       "..                          ...    ...     ...   ...    ...\n",
       "96                东湖风景区白马小路至果批段     25  高架及快速路   150     -1\n",
       "97               经开区四新南路新华园二路6处     34   城市主干道   141      4\n",
       "98                 洪山区虎泉街保利华都1处      5    城市支路   715     -1\n",
       "99                      武胜路电车公司      4   城市主干道  1450      4\n",
       "100                        武昌片区      5   城市主干道   776      5\n",
       "\n",
       "[101 rows x 5 columns]"
      ]
     },
     "execution_count": 4,
     "metadata": {},
     "output_type": "execute_result"
    }
   ],
   "source": [
    "pd.read_excel('渍水.xlsx')"
   ]
  },
  {
   "cell_type": "code",
   "execution_count": 5,
   "metadata": {},
   "outputs": [],
   "source": [
    "df=pd.read_excel('渍水.xlsx')"
   ]
  },
  {
   "cell_type": "code",
   "execution_count": 10,
   "metadata": {},
   "outputs": [
    {
     "data": {
      "text/plain": [
       "['高架及快速路', '城市支路', '城市次干道', '城市主干道']"
      ]
     },
     "execution_count": 10,
     "metadata": {},
     "output_type": "execute_result"
    }
   ],
   "source": [
    "list(set(df['分类'].values.tolist()))"
   ]
  },
  {
   "cell_type": "code",
   "execution_count": 31,
   "metadata": {},
   "outputs": [
    {
     "data": {
      "text/plain": [
       "[0, 1, 2, 3, 4, 5, 6, -1]"
      ]
     },
     "execution_count": 31,
     "metadata": {},
     "output_type": "execute_result"
    }
   ],
   "source": [
    "list(set(df['Topic'].values.tolist()))"
   ]
  },
  {
   "cell_type": "code",
   "execution_count": 18,
   "metadata": {},
   "outputs": [
    {
     "data": {
      "text/plain": [
       "<pandas.core.groupby.generic.DataFrameGroupBy object at 0x000001F58E9C6370>"
      ]
     },
     "execution_count": 18,
     "metadata": {},
     "output_type": "execute_result"
    }
   ],
   "source": [
    "df.groupby('分类')"
   ]
  },
  {
   "cell_type": "code",
   "execution_count": null,
   "metadata": {},
   "outputs": [],
   "source": [
    "import numpy as np\n",
    "import matplotlib.pyplot as plt"
   ]
  },
  {
   "cell_type": "code",
   "execution_count": 21,
   "metadata": {},
   "outputs": [
    {
     "data": {
      "text/html": [
       "<div>\n",
       "<style scoped>\n",
       "    .dataframe tbody tr th:only-of-type {\n",
       "        vertical-align: middle;\n",
       "    }\n",
       "\n",
       "    .dataframe tbody tr th {\n",
       "        vertical-align: top;\n",
       "    }\n",
       "\n",
       "    .dataframe thead th {\n",
       "        text-align: right;\n",
       "    }\n",
       "</style>\n",
       "<table border=\"1\" class=\"dataframe\">\n",
       "  <thead>\n",
       "    <tr style=\"text-align: right;\">\n",
       "      <th></th>\n",
       "      <th>area</th>\n",
       "      <th>count</th>\n",
       "      <th>分类</th>\n",
       "      <th>NUMS</th>\n",
       "      <th>Topic</th>\n",
       "    </tr>\n",
       "  </thead>\n",
       "  <tbody>\n",
       "    <tr>\n",
       "      <th>8</th>\n",
       "      <td>琴台大道郭茨口邮局门口</td>\n",
       "      <td>20</td>\n",
       "      <td>高架及快速路</td>\n",
       "      <td>743</td>\n",
       "      <td>5</td>\n",
       "    </tr>\n",
       "    <tr>\n",
       "      <th>17</th>\n",
       "      <td>欢乐大道辅道</td>\n",
       "      <td>20</td>\n",
       "      <td>高架及快速路</td>\n",
       "      <td>193</td>\n",
       "      <td>5</td>\n",
       "    </tr>\n",
       "    <tr>\n",
       "      <th>31</th>\n",
       "      <td>洪山区二环线梨园医院处进入梨园下穿通道</td>\n",
       "      <td>10</td>\n",
       "      <td>高架及快速路</td>\n",
       "      <td>175</td>\n",
       "      <td>6</td>\n",
       "    </tr>\n",
       "    <tr>\n",
       "      <th>91</th>\n",
       "      <td>三环线古田加油站对面</td>\n",
       "      <td>45</td>\n",
       "      <td>高架及快速路</td>\n",
       "      <td>20</td>\n",
       "      <td>-1</td>\n",
       "    </tr>\n",
       "    <tr>\n",
       "      <th>96</th>\n",
       "      <td>东湖风景区白马小路至果批段</td>\n",
       "      <td>25</td>\n",
       "      <td>高架及快速路</td>\n",
       "      <td>150</td>\n",
       "      <td>-1</td>\n",
       "    </tr>\n",
       "  </tbody>\n",
       "</table>\n",
       "</div>"
      ],
      "text/plain": [
       "                   area  count      分类  NUMS  Topic\n",
       "8           琴台大道郭茨口邮局门口     20  高架及快速路   743      5\n",
       "17               欢乐大道辅道     20  高架及快速路   193      5\n",
       "31  洪山区二环线梨园医院处进入梨园下穿通道     10  高架及快速路   175      6\n",
       "91           三环线古田加油站对面     45  高架及快速路    20     -1\n",
       "96        东湖风景区白马小路至果批段     25  高架及快速路   150     -1"
      ]
     },
     "execution_count": 21,
     "metadata": {},
     "output_type": "execute_result"
    }
   ],
   "source": [
    "df[df['分类']=='高架及快速路']"
   ]
  },
  {
   "cell_type": "code",
   "execution_count": 37,
   "metadata": {},
   "outputs": [],
   "source": [
    "import matplotlib as mpl\n",
    "import matplotlib.colors as colors\n",
    "def colormap():\n",
    "    # 白青绿黄红\n",
    "    cdict = ['#fe4567', '#fc9d99', '#fbceaf', '#c9c8aa', '#84b19a', '#71969f', '#1bc096', '#c7bb81']\n",
    "    # 按照上面定义的colordict，将数据分成对应的部分，indexed：代表顺序\n",
    "    return colors.ListedColormap(cdict, 'indexed')"
   ]
  },
  {
   "cell_type": "code",
   "execution_count": 59,
   "metadata": {},
   "outputs": [],
   "source": [
    "cdict = ['#fe4567', '#fc9d99', '#fbceaf', '#c9c8aa', '#00334e', '#71969f', '#1bc096', '#c7bb81']#84b19a"
   ]
  },
  {
   "cell_type": "code",
   "execution_count": 38,
   "metadata": {},
   "outputs": [
    {
     "data": {
      "image/png": "[encoded data removed]",
      "text/plain": [
       "<Figure size 432x288 with 1 Axes>"
      ]
     },
     "metadata": {},
     "output_type": "display_data"
    }
   ],
   "source": [
    "# Fixing random state for reproducibility\n",
    "from pylab import mpl\n",
    "\n",
    "mpl.rcParams['font.sans-serif'] = ['FangSong'] # 指定默认字体\n",
    "mpl.rcParams['axes.unicode_minus'] = False # 解决保存图像是负号'-'显示为方块的问题\n",
    "\n",
    "np.random.seed(19680801)\n",
    "N = 10\n",
    "x = df[df['分类']=='高架及快速路']['NUMS'].values.tolist()\n",
    "y = df[df['分类']=='高架及快速路']['count'].values.tolist()\n",
    "area =df[df['分类']=='高架及快速路']['Topic'].values.tolist()\n",
    "\n",
    "fig = plt.figure()\n",
    "ax = plt.subplot()\n",
    "# ax.scatter(x, y, s=area, alpha=0.5)\n",
    "# ax.scatter(x2, y2, s=area, c='green', alpha=0.5)\n",
    "ax.scatter(x, y, c=area, marker='+', cmap=colormap(),label='高架及快速路', alpha=0.8)  # 更换标记样式，另一种颜色的样式\n",
    "\n",
    "x2 = df[df['分类']=='城市主干道']['NUMS'].values.tolist()\n",
    "y2 = df[df['分类']=='城市主干道']['count'].values.tolist()\n",
    "area2 =df[df['分类']=='城市主干道']['Topic'].values.tolist()\n",
    "ax.scatter(x2, y2, c=area2, marker='o', cmap=colormap(),label='城市主干道', alpha=0.8)  # 更换标记样式，另一种颜色的样式\n",
    "\n",
    "x3 = df[df['分类']=='城市次干道']['NUMS'].values.tolist()\n",
    "y3 = df[df['分类']=='城市次干道']['count'].values.tolist()\n",
    "area3 =df[df['分类']=='城市次干道']['Topic'].values.tolist()\n",
    "ax.scatter(x3, y3, c=area3, marker='x', cmap=colormap(),label='城市次干道', alpha=0.8)  # 更换标记样式，另一种颜色的样式\n",
    "\n",
    "x4 = df[df['分类']=='城市支路']['NUMS'].values.tolist()\n",
    "y4 = df[df['分类']=='城市支路']['count'].values.tolist()\n",
    "area4 =df[df['分类']=='城市支路']['Topic'].values.tolist()\n",
    "ax.scatter(x4, y4, c=area4, marker='+', cmap='Reds',label='城市支路', alpha=0.8)  # 更换标记样式，另一种颜色的样式\n",
    "\n",
    "\n",
    "plt.legend()\n",
    "plt.savefig(\"test.svg\")\n",
    "plt.show()"
   ]
  },
  {
   "cell_type": "code",
   "execution_count": 60,
   "metadata": {},
   "outputs": [
    {
     "data": {
      "image/png": "[encoded data removed]",
      "text/plain": [
       "<Figure size 432x288 with 1 Axes>"
      ]
     },
     "metadata": {},
     "output_type": "display_data"
    }
   ],
   "source": [
    "# Fixing random state for reproducibility\n",
    "from pylab import mpl\n",
    "\n",
    "mpl.rcParams['font.sans-serif'] = ['FangSong'] # 指定默认字体\n",
    "mpl.rcParams['axes.unicode_minus'] = False # 解决保存图像是负号'-'显示为方块的问题\n",
    "\n",
    "np.random.seed(19680801)\n",
    "N = 10\n",
    "x = df[df['Topic']==-1]['NUMS'].values.tolist()\n",
    "y = df[df['Topic']==-1]['count'].values.tolist()\n",
    "area =df[df['Topic']==-1]['Topic'].values.tolist()\n",
    "fig = plt.figure()\n",
    "ax = plt.subplot()\n",
    "# ax.scatter(x, y, s=area, alpha=0.5)\n",
    "# ax.scatter(x2, y2, s=area, c='green', alpha=0.5)\n",
    "ax.scatter(x, y, c=cdict[0], marker='+',label='Other', alpha=0.8)  # 更换标记样式，另一种颜色的样式\n",
    "\n",
    "x2 = df[df['Topic']==0]['NUMS'].values.tolist()\n",
    "y2 = df[df['Topic']==0]['count'].values.tolist()\n",
    "area2 =df[df['Topic']==0]['Topic'].values.tolist()\n",
    "ax.scatter(x2, y2, c=cdict[1],marker='+',label='Water', alpha=0.8)  # 更换标记样式，另一种颜色的样式\n",
    "\n",
    "x3 = df[df['Topic']==1]['NUMS'].values.tolist()\n",
    "y3 = df[df['Topic']==1]['count'].values.tolist()\n",
    "area3 =df[df['Topic']==1]['Topic'].values.tolist()\n",
    "ax.scatter(x3, y3, c=cdict[2], marker='+',label='Scenic', alpha=0.8)  # 更换标记样式，另一种颜色的样式\n",
    "\n",
    "x4 = df[df['Topic']==2]['NUMS'].values.tolist()\n",
    "y4 = df[df['Topic']==2]['count'].values.tolist()\n",
    "area4 =df[df['Topic']==2]['Topic'].values.tolist()\n",
    "ax.scatter(x4, y4, c=cdict[3], marker='+', label='University', alpha=0.8)  # 更换标记样式，另一种颜色的样式\n",
    "\n",
    "x5 = df[df['Topic']==3]['NUMS'].values.tolist()\n",
    "y5 = df[df['Topic']==3]['count'].values.tolist()\n",
    "area5 =df[df['Topic']==3]['Topic'].values.tolist()\n",
    "ax.scatter(x5, y5, c=cdict[4], marker='+', label='Company', alpha=0.8)  # 更换标记样式，另一种颜色的样式\n",
    "\n",
    "x6 = df[df['Topic']==4]['NUMS'].values.tolist()\n",
    "y6 = df[df['Topic']==4]['count'].values.tolist()\n",
    "area6 =df[df['Topic']==4]['Topic'].values.tolist()\n",
    "ax.scatter(x6, y6, c=cdict[5], marker='+', label='Residence', alpha=0.8)  # 更换标记样式，另一种颜色的样式\n",
    "\n",
    "x7 = df[df['Topic']==5]['NUMS'].values.tolist()\n",
    "y7 = df[df['Topic']==5]['count'].values.tolist()\n",
    "area7 =df[df['Topic']==5]['Topic'].values.tolist()\n",
    "ax.scatter(x7, y7, c=cdict[6], marker='+', label='Public Serv', alpha=0.8)  # 更换标记样式，另一种颜色的样式\n",
    "\n",
    "x8 = df[df['Topic']==6]['NUMS'].values.tolist()\n",
    "y8 = df[df['Topic']==6]['count'].values.tolist()\n",
    "area8 =df[df['Topic']==6]['Topic'].values.tolist()\n",
    "ax.scatter(x8, y8, c=cdict[7], marker='+', label='Business', alpha=0.8)  # 更换标记样式，另一种颜色的样式\n",
    "\n",
    "plt.legend()\n",
    "plt.savefig(\"test.svg\")\n",
    "plt.show()"
   ]
  },
  {
   "cell_type": "code",
   "execution_count": 61,
   "metadata": {},
   "outputs": [
    {
     "data": {
      "image/png": "[encoded data removed]",
      "text/plain": [
       "<Figure size 432x288 with 1 Axes>"
      ]
     },
     "metadata": {},
     "output_type": "display_data"
    }
   ],
   "source": [
    "# Fixing random state for reproducibility\n",
    "from pylab import mpl\n",
    "\n",
    "mpl.rcParams['font.sans-serif'] = ['FangSong'] # 指定默认字体\n",
    "mpl.rcParams['axes.unicode_minus'] = False # 解决保存图像是负号'-'显示为方块的问题\n",
    "\n",
    "np.random.seed(19680801)\n",
    "N = 10\n",
    "x = df[df['Topic']==-1]['NUMS'].values.tolist()\n",
    "y = df[df['Topic']==-1]['count'].values.tolist()\n",
    "area =df[df['Topic']==-1]['Topic'].values.tolist()\n",
    "fig = plt.figure()\n",
    "ax = plt.subplot()\n",
    "# ax.scatter(x, y, s=area, alpha=0.5)\n",
    "# ax.scatter(x2, y2, s=area, c='green', alpha=0.5)\n",
    "ax.scatter(x, y, c=cdict[0], marker='.',label='Other', alpha=0.8)  # 更换标记样式，另一种颜色的样式\n",
    "\n",
    "x2 = df[df['Topic']==0]['NUMS'].values.tolist()\n",
    "y2 = df[df['Topic']==0]['count'].values.tolist()\n",
    "area2 =df[df['Topic']==0]['Topic'].values.tolist()\n",
    "ax.scatter(x2, y2, c=cdict[1],marker='.',label='Water', alpha=0.8)  # 更换标记样式，另一种颜色的样式\n",
    "\n",
    "x3 = df[df['Topic']==1]['NUMS'].values.tolist()\n",
    "y3 = df[df['Topic']==1]['count'].values.tolist()\n",
    "area3 =df[df['Topic']==1]['Topic'].values.tolist()\n",
    "ax.scatter(x3, y3, c=cdict[2], marker='.',label='Scenic', alpha=0.8)  # 更换标记样式，另一种颜色的样式\n",
    "\n",
    "x4 = df[df['Topic']==2]['NUMS'].values.tolist()\n",
    "y4 = df[df['Topic']==2]['count'].values.tolist()\n",
    "area4 =df[df['Topic']==2]['Topic'].values.tolist()\n",
    "ax.scatter(x4, y4, c=cdict[3], marker='.', label='University', alpha=0.8)  # 更换标记样式，另一种颜色的样式\n",
    "\n",
    "x5 = df[df['Topic']==3]['NUMS'].values.tolist()\n",
    "y5 = df[df['Topic']==3]['count'].values.tolist()\n",
    "area5 =df[df['Topic']==3]['Topic'].values.tolist()\n",
    "ax.scatter(x5, y5, c=cdict[4], marker='.', label='Company', alpha=0.8)  # 更换标记样式，另一种颜色的样式\n",
    "\n",
    "x6 = df[df['Topic']==4]['NUMS'].values.tolist()\n",
    "y6 = df[df['Topic']==4]['count'].values.tolist()\n",
    "area6 =df[df['Topic']==4]['Topic'].values.tolist()\n",
    "ax.scatter(x6, y6, c=cdict[5], marker='.', label='Residence', alpha=0.8)  # 更换标记样式，另一种颜色的样式\n",
    "\n",
    "x7 = df[df['Topic']==5]['NUMS'].values.tolist()\n",
    "y7 = df[df['Topic']==5]['count'].values.tolist()\n",
    "area7 =df[df['Topic']==5]['Topic'].values.tolist()\n",
    "ax.scatter(x7, y7, c=cdict[6], marker='.', label='Public Serv', alpha=0.8)  # 更换标记样式，另一种颜色的样式\n",
    "\n",
    "x8 = df[df['Topic']==6]['NUMS'].values.tolist()\n",
    "y8 = df[df['Topic']==6]['count'].values.tolist()\n",
    "area8 =df[df['Topic']==6]['Topic'].values.tolist()\n",
    "ax.scatter(x8, y8, c=cdict[7], marker='.', label='Business', alpha=0.8)  # 更换标记样式，另一种颜色的样式\n",
    "\n",
    "plt.legend()\n",
    "plt.savefig(\"test.svg\")\n",
    "plt.show()"
   ]
  },
  {
   "cell_type": "code",
   "execution_count": null,
   "metadata": {},
   "outputs": [],
   "source": []
  },
  {
   "cell_type": "code",
   "execution_count": 62,
   "metadata": {},
   "outputs": [
    {
     "data": {
      "image/png": "[encoded data removed]",
      "text/plain": [
       "<Figure size 432x288 with 1 Axes>"
      ]
     },
     "metadata": {},
     "output_type": "display_data"
    }
   ],
   "source": [
    "# Fixing random state for reproducibility\n",
    "from pylab import mpl\n",
    "\n",
    "mpl.rcParams['font.sans-serif'] = ['FangSong'] # 指定默认字体\n",
    "mpl.rcParams['axes.unicode_minus'] = False # 解决保存图像是负号'-'显示为方块的问题\n",
    "\n",
    "np.random.seed(19680801)\n",
    "N = 10\n",
    "x = df[df['Topic']==-1]['NUMS'].values.tolist()\n",
    "y = df[df['Topic']==-1]['count'].values.tolist()\n",
    "area =df[df['Topic']==-1]['Topic'].values.tolist()\n",
    "fig = plt.figure()\n",
    "ax = plt.subplot()\n",
    "# ax.scatter(x, y, s=area, alpha=0.5)\n",
    "# ax.scatter(x2, y2, s=area, c='green', alpha=0.5)\n",
    "ax.scatter(x, y, c=cdict[0], marker='o',label='Other', alpha=0.8)  # 更换标记样式，另一种颜色的样式\n",
    "\n",
    "x2 = df[df['Topic']==0]['NUMS'].values.tolist()\n",
    "y2 = df[df['Topic']==0]['count'].values.tolist()\n",
    "area2 =df[df['Topic']==0]['Topic'].values.tolist()\n",
    "ax.scatter(x2, y2, c=cdict[1],marker='o',label='Water', alpha=0.8)  # 更换标记样式，另一种颜色的样式\n",
    "\n",
    "x3 = df[df['Topic']==1]['NUMS'].values.tolist()\n",
    "y3 = df[df['Topic']==1]['count'].values.tolist()\n",
    "area3 =df[df['Topic']==1]['Topic'].values.tolist()\n",
    "ax.scatter(x3, y3, c=cdict[2], marker='o',label='Scenic', alpha=0.8)  # 更换标记样式，另一种颜色的样式\n",
    "\n",
    "x4 = df[df['Topic']==2]['NUMS'].values.tolist()\n",
    "y4 = df[df['Topic']==2]['count'].values.tolist()\n",
    "area4 =df[df['Topic']==2]['Topic'].values.tolist()\n",
    "ax.scatter(x4, y4, c=cdict[3], marker='o', label='University', alpha=0.8)  # 更换标记样式，另一种颜色的样式\n",
    "\n",
    "x5 = df[df['Topic']==3]['NUMS'].values.tolist()\n",
    "y5 = df[df['Topic']==3]['count'].values.tolist()\n",
    "area5 =df[df['Topic']==3]['Topic'].values.tolist()\n",
    "ax.scatter(x5, y5, c=cdict[4], marker='o', label='Company', alpha=0.8)  # 更换标记样式，另一种颜色的样式\n",
    "\n",
    "x6 = df[df['Topic']==4]['NUMS'].values.tolist()\n",
    "y6 = df[df['Topic']==4]['count'].values.tolist()\n",
    "area6 =df[df['Topic']==4]['Topic'].values.tolist()\n",
    "ax.scatter(x6, y6, c=cdict[5], marker='o', label='Residence', alpha=0.8)  # 更换标记样式，另一种颜色的样式\n",
    "\n",
    "x7 = df[df['Topic']==5]['NUMS'].values.tolist()\n",
    "y7 = df[df['Topic']==5]['count'].values.tolist()\n",
    "area7 =df[df['Topic']==5]['Topic'].values.tolist()\n",
    "ax.scatter(x7, y7, c=cdict[6], marker='o', label='Public Serv', alpha=0.8)  # 更换标记样式，另一种颜色的样式\n",
    "\n",
    "x8 = df[df['Topic']==6]['NUMS'].values.tolist()\n",
    "y8 = df[df['Topic']==6]['count'].values.tolist()\n",
    "area8 =df[df['Topic']==6]['Topic'].values.tolist()\n",
    "ax.scatter(x8, y8, c=cdict[7], marker='o', label='Business', alpha=0.8)  # 更换标记样式，另一种颜色的样式\n",
    "\n",
    "plt.legend()\n",
    "plt.savefig(\"test.svg\")\n",
    "plt.show()"
   ]
  },
  {
   "cell_type": "code",
   "execution_count": 63,
   "metadata": {},
   "outputs": [
    {
     "data": {
      "text/plain": [
       "['高架及快速路', '城市支路', '城市次干道', '城市主干道']"
      ]
     },
     "execution_count": 63,
     "metadata": {},
     "output_type": "execute_result"
    }
   ],
   "source": [
    "list(set(df['分类'].values.tolist()))"
   ]
  },
  {
   "cell_type": "code",
   "execution_count": 89,
   "metadata": {},
   "outputs": [],
   "source": [
    "def trans_list(list1):\n",
    "    result=[]\n",
    "    for i in list1:\n",
    "        if i=='城市支路':\n",
    "            result.append(10)\n",
    "        if i=='城市次干道':\n",
    "            result.append(20)\n",
    "        if i=='城市主干道':\n",
    "            result.append(30)\n",
    "        if i=='高架及快速路':\n",
    "            result.append(40)\n",
    "    return result"
   ]
  },
  {
   "cell_type": "code",
   "execution_count": 93,
   "metadata": {},
   "outputs": [
    {
     "data": {
      "image/png": "[encoded data removed]",
      "text/plain": [
       "<Figure size 432x288 with 1 Axes>"
      ]
     },
     "metadata": {},
     "output_type": "display_data"
    }
   ],
   "source": [
    "# Fixing random state for reproducibility\n",
    "from pylab import mpl\n",
    "\n",
    "mpl.rcParams['font.sans-serif'] = ['FangSong'] # 指定默认字体\n",
    "mpl.rcParams['axes.unicode_minus'] = False # 解决保存图像是负号'-'显示为方块的问题\n",
    "\n",
    "np.random.seed(19680801)\n",
    "N = 10\n",
    "x = df[df['Topic']==-1]['NUMS'].values.tolist()\n",
    "y = df[df['Topic']==-1]['count'].values.tolist()\n",
    "area =df[df['Topic']==-1]['分类'].values.tolist()\n",
    "fig = plt.figure()\n",
    "ax = plt.subplot()\n",
    "# ax.scatter(x, y, s=area, alpha=0.5)\n",
    "# ax.scatter(x2, y2, s=area, c='green', alpha=0.5)\n",
    "ax.scatter(x, y, c=cdict[0], s=trans_list(area),marker='o',label='Other', alpha=0.8)  # 更换标记样式，另一种颜色的样式\n",
    "\n",
    "x2 = df[df['Topic']==0]['NUMS'].values.tolist()\n",
    "y2 = df[df['Topic']==0]['count'].values.tolist()\n",
    "area2 =df[df['Topic']==0]['分类'].values.tolist()\n",
    "ax.scatter(x2, y2, c=cdict[1],s=trans_list(area2),marker='o',label='Water', alpha=0.8)  # 更换标记样式，另一种颜色的样式\n",
    "\n",
    "x3 = df[df['Topic']==1]['NUMS'].values.tolist()\n",
    "y3 = df[df['Topic']==1]['count'].values.tolist()\n",
    "area3 =df[df['Topic']==1]['分类'].values.tolist()\n",
    "ax.scatter(x3, y3, c=cdict[2], s=trans_list(area3),marker='o',label='Scenic', alpha=0.8)  # 更换标记样式，另一种颜色的样式\n",
    "\n",
    "x4 = df[df['Topic']==2]['NUMS'].values.tolist()\n",
    "y4 = df[df['Topic']==2]['count'].values.tolist()\n",
    "area4 =df[df['Topic']==2]['分类'].values.tolist()\n",
    "ax.scatter(x4, y4, c=cdict[3], marker='o', s=trans_list(area4),label='University', alpha=0.8)  # 更换标记样式，另一种颜色的样式\n",
    "\n",
    "x5 = df[df['Topic']==3]['NUMS'].values.tolist()\n",
    "y5 = df[df['Topic']==3]['count'].values.tolist()\n",
    "area5 =df[df['Topic']==3]['分类'].values.tolist()\n",
    "ax.scatter(x5, y5, c=cdict[4], marker='o', s=trans_list(area5),label='Company', alpha=0.8)  # 更换标记样式，另一种颜色的样式\n",
    "\n",
    "x6 = df[df['Topic']==4]['NUMS'].values.tolist()\n",
    "y6 = df[df['Topic']==4]['count'].values.tolist()\n",
    "area6 =df[df['Topic']==4]['分类'].values.tolist()\n",
    "ax.scatter(x6, y6, c=cdict[5], marker='o', s=trans_list(area6),label='Residence', alpha=0.8)  # 更换标记样式，另一种颜色的样式\n",
    "\n",
    "x7 = df[df['Topic']==5]['NUMS'].values.tolist()\n",
    "y7 = df[df['Topic']==5]['count'].values.tolist()\n",
    "area7 =df[df['Topic']==5]['分类'].values.tolist()\n",
    "ax.scatter(x7, y7, c=cdict[6], marker='o', s=trans_list(area7),label='Public Serv', alpha=0.8)  # 更换标记样式，另一种颜色的样式\n",
    "\n",
    "x8 = df[df['Topic']==6]['NUMS'].values.tolist()\n",
    "y8 = df[df['Topic']==6]['count'].values.tolist()\n",
    "area8 =df[df['Topic']==6]['分类'].values.tolist()\n",
    "ax.scatter(x8, y8, c=cdict[7], marker='o', s=trans_list(area8),label='Business', alpha=0.8)  # 更换标记样式，另一种颜色的样式\n",
    "\n",
    "plt.legend()\n",
    "plt.savefig(\"test0.svg\")\n",
    "plt.show()"
   ]
  },
  {
   "cell_type": "code",
   "execution_count": 94,
   "metadata": {},
   "outputs": [
    {
     "data": {
      "image/png": "[encoded data removed]",
      "text/plain": [
       "<Figure size 432x288 with 1 Axes>"
      ]
     },
     "metadata": {},
     "output_type": "display_data"
    }
   ],
   "source": [
    "# Fixing random state for reproducibility\n",
    "from pylab import mpl\n",
    "\n",
    "mpl.rcParams['font.sans-serif'] = ['FangSong'] # 指定默认字体\n",
    "mpl.rcParams['axes.unicode_minus'] = False # 解决保存图像是负号'-'显示为方块的问题\n",
    "\n",
    "np.random.seed(19680801)\n",
    "N = 10\n",
    "x = df[df['Topic']==-1]['NUMS'].values.tolist()\n",
    "y = df[df['Topic']==-1]['count'].values.tolist()\n",
    "area =df[df['Topic']==-1]['分类'].values.tolist()\n",
    "fig = plt.figure()\n",
    "ax = plt.subplot()\n",
    "# ax.scatter(x, y, s=area, alpha=0.5)\n",
    "# ax.scatter(x2, y2, s=area, c='green', alpha=0.5)\n",
    "\n",
    "# ax.scatter(x, y, c=cdict[0], s=trans_list(area),marker='o',label='Other', alpha=0.8)  # 更换标记样式，另一种颜色的样式\n",
    "\n",
    "x2 = df[df['Topic']==0]['NUMS'].values.tolist()\n",
    "y2 = df[df['Topic']==0]['count'].values.tolist()\n",
    "area2 =df[df['Topic']==0]['分类'].values.tolist()\n",
    "ax.scatter(x2, y2, c=cdict[1],s=trans_list(area2),marker='o',label='Water', alpha=0.8)  # 更换标记样式，另一种颜色的样式\n",
    "\n",
    "x3 = df[df['Topic']==1]['NUMS'].values.tolist()\n",
    "y3 = df[df['Topic']==1]['count'].values.tolist()\n",
    "area3 =df[df['Topic']==1]['分类'].values.tolist()\n",
    "ax.scatter(x3, y3, c=cdict[2], s=trans_list(area3),marker='o',label='Scenic', alpha=0.8)  # 更换标记样式，另一种颜色的样式\n",
    "\n",
    "x4 = df[df['Topic']==2]['NUMS'].values.tolist()\n",
    "y4 = df[df['Topic']==2]['count'].values.tolist()\n",
    "area4 =df[df['Topic']==2]['分类'].values.tolist()\n",
    "ax.scatter(x4, y4, c=cdict[3], marker='o', s=trans_list(area4),label='University', alpha=0.8)  # 更换标记样式，另一种颜色的样式\n",
    "\n",
    "x5 = df[df['Topic']==3]['NUMS'].values.tolist()\n",
    "y5 = df[df['Topic']==3]['count'].values.tolist()\n",
    "area5 =df[df['Topic']==3]['分类'].values.tolist()\n",
    "ax.scatter(x5, y5, c=cdict[4], marker='o', s=trans_list(area5),label='Company', alpha=0.8)  # 更换标记样式，另一种颜色的样式\n",
    "\n",
    "x6 = df[df['Topic']==4]['NUMS'].values.tolist()\n",
    "y6 = df[df['Topic']==4]['count'].values.tolist()\n",
    "area6 =df[df['Topic']==4]['分类'].values.tolist()\n",
    "ax.scatter(x6, y6, c=cdict[5], marker='o', s=trans_list(area6),label='Residence', alpha=0.8)  # 更换标记样式，另一种颜色的样式\n",
    "\n",
    "x7 = df[df['Topic']==5]['NUMS'].values.tolist()\n",
    "y7 = df[df['Topic']==5]['count'].values.tolist()\n",
    "area7 =df[df['Topic']==5]['分类'].values.tolist()\n",
    "ax.scatter(x7, y7, c=cdict[6], marker='o', s=trans_list(area7),label='Public Serv', alpha=0.8)  # 更换标记样式，另一种颜色的样式\n",
    "\n",
    "x8 = df[df['Topic']==6]['NUMS'].values.tolist()\n",
    "y8 = df[df['Topic']==6]['count'].values.tolist()\n",
    "area8 =df[df['Topic']==6]['分类'].values.tolist()\n",
    "ax.scatter(x8, y8, c=cdict[7], marker='o', s=trans_list(area8),label='Business', alpha=0.8)  # 更换标记样式，另一种颜色的样式\n",
    "\n",
    "plt.legend()\n",
    "plt.savefig(\"test0.jpg\")\n",
    "plt.show()"
   ]
  },
  {
   "cell_type": "code",
   "execution_count": 92,
   "metadata": {},
   "outputs": [
    {
     "data": {
      "image/png": "[encoded data removed]",
      "text/plain": [
       "<Figure size 432x288 with 1 Axes>"
      ]
     },
     "metadata": {},
     "output_type": "display_data"
    }
   ],
   "source": [
    "# Fixing random state for reproducibility\n",
    "from pylab import mpl\n",
    "\n",
    "mpl.rcParams['font.sans-serif'] = ['FangSong'] # 指定默认字体\n",
    "mpl.rcParams['axes.unicode_minus'] = False # 解决保存图像是负号'-'显示为方块的问题\n",
    "\n",
    "np.random.seed(19680801)\n",
    "N = 10\n",
    "x = df[df['Topic']==-1]['NUMS'].values.tolist()\n",
    "y = df[df['Topic']==-1]['count'].values.tolist()\n",
    "area =df[df['Topic']==-1]['分类'].values.tolist()\n",
    "fig = plt.figure()\n",
    "ax = plt.subplot()\n",
    "# ax.scatter(x, y, s=area, alpha=0.5)\n",
    "# ax.scatter(x2, y2, s=area, c='green', alpha=0.5)\n",
    "ax.scatter(x, y, c=cdict[0], s=trans_list(area),marker='+',label='Other', alpha=0.8)  # 更换标记样式，另一种颜色的样式\n",
    "\n",
    "x2 = df[df['Topic']==0]['NUMS'].values.tolist()\n",
    "y2 = df[df['Topic']==0]['count'].values.tolist()\n",
    "area2 =df[df['Topic']==0]['分类'].values.tolist()\n",
    "ax.scatter(x2, y2, c=cdict[1],s=trans_list(area2),marker='+',label='Water', alpha=0.8)  # 更换标记样式，另一种颜色的样式\n",
    "\n",
    "x3 = df[df['Topic']==1]['NUMS'].values.tolist()\n",
    "y3 = df[df['Topic']==1]['count'].values.tolist()\n",
    "area3 =df[df['Topic']==1]['分类'].values.tolist()\n",
    "ax.scatter(x3, y3, c=cdict[2], s=trans_list(area3),marker='+',label='Scenic', alpha=0.8)  # 更换标记样式，另一种颜色的样式\n",
    "\n",
    "x4 = df[df['Topic']==2]['NUMS'].values.tolist()\n",
    "y4 = df[df['Topic']==2]['count'].values.tolist()\n",
    "area4 =df[df['Topic']==2]['分类'].values.tolist()\n",
    "ax.scatter(x4, y4, c=cdict[3], marker='+', s=trans_list(area4),label='University', alpha=0.8)  # 更换标记样式，另一种颜色的样式\n",
    "\n",
    "x5 = df[df['Topic']==3]['NUMS'].values.tolist()\n",
    "y5 = df[df['Topic']==3]['count'].values.tolist()\n",
    "area5 =df[df['Topic']==3]['分类'].values.tolist()\n",
    "ax.scatter(x5, y5, c=cdict[4], marker='+', s=trans_list(area5),label='Company', alpha=0.8)  # 更换标记样式，另一种颜色的样式\n",
    "\n",
    "x6 = df[df['Topic']==4]['NUMS'].values.tolist()\n",
    "y6 = df[df['Topic']==4]['count'].values.tolist()\n",
    "area6 =df[df['Topic']==4]['分类'].values.tolist()\n",
    "ax.scatter(x6, y6, c=cdict[5], marker='+', s=trans_list(area6),label='Residence', alpha=0.8)  # 更换标记样式，另一种颜色的样式\n",
    "\n",
    "x7 = df[df['Topic']==5]['NUMS'].values.tolist()\n",
    "y7 = df[df['Topic']==5]['count'].values.tolist()\n",
    "area7 =df[df['Topic']==5]['分类'].values.tolist()\n",
    "ax.scatter(x7, y7, c=cdict[6], marker='+', s=trans_list(area7),label='Public Serv', alpha=0.8)  # 更换标记样式，另一种颜色的样式\n",
    "\n",
    "x8 = df[df['Topic']==6]['NUMS'].values.tolist()\n",
    "y8 = df[df['Topic']==6]['count'].values.tolist()\n",
    "area8 =df[df['Topic']==6]['分类'].values.tolist()\n",
    "ax.scatter(x8, y8, c=cdict[7], marker='+', s=trans_list(area8),label='Business', alpha=0.8)  # 更换标记样式，另一种颜色的样式\n",
    "\n",
    "plt.legend()\n",
    "plt.savefig(\"test+.svg\")\n",
    "plt.show()"
   ]
  },
  {
   "cell_type": "code",
   "execution_count": 99,
   "metadata": {},
   "outputs": [
    {
     "data": {
      "text/html": [
       "<div>\n",
       "<style scoped>\n",
       "    .dataframe tbody tr th:only-of-type {\n",
       "        vertical-align: middle;\n",
       "    }\n",
       "\n",
       "    .dataframe tbody tr th {\n",
       "        vertical-align: top;\n",
       "    }\n",
       "\n",
       "    .dataframe thead th {\n",
       "        text-align: right;\n",
       "    }\n",
       "</style>\n",
       "<table border=\"1\" class=\"dataframe\">\n",
       "  <thead>\n",
       "    <tr style=\"text-align: right;\">\n",
       "      <th></th>\n",
       "      <th>area</th>\n",
       "      <th>count</th>\n",
       "      <th>分类</th>\n",
       "      <th>NUMS</th>\n",
       "      <th>Topic</th>\n",
       "      <th>type</th>\n",
       "    </tr>\n",
       "  </thead>\n",
       "  <tbody>\n",
       "    <tr>\n",
       "      <th>0</th>\n",
       "      <td>雄楚大道公安厅门前辅道（石牌岭西路至丁字桥螺口方向）</td>\n",
       "      <td>1</td>\n",
       "      <td>城市主干道</td>\n",
       "      <td>988</td>\n",
       "      <td>-1</td>\n",
       "      <td>3</td>\n",
       "    </tr>\n",
       "    <tr>\n",
       "      <th>1</th>\n",
       "      <td>东湖景园路段</td>\n",
       "      <td>10</td>\n",
       "      <td>城市主干道</td>\n",
       "      <td>175</td>\n",
       "      <td>6</td>\n",
       "      <td>3</td>\n",
       "    </tr>\n",
       "    <tr>\n",
       "      <th>2</th>\n",
       "      <td>汉阳区四新北路红星美凯龙门口</td>\n",
       "      <td>24</td>\n",
       "      <td>城市主干道</td>\n",
       "      <td>55</td>\n",
       "      <td>-1</td>\n",
       "      <td>3</td>\n",
       "    </tr>\n",
       "    <tr>\n",
       "      <th>3</th>\n",
       "      <td>风景区二环线东湖景园路段</td>\n",
       "      <td>10</td>\n",
       "      <td>城市主干道</td>\n",
       "      <td>175</td>\n",
       "      <td>6</td>\n",
       "      <td>3</td>\n",
       "    </tr>\n",
       "    <tr>\n",
       "      <th>4</th>\n",
       "      <td>紫阳东路东安路口</td>\n",
       "      <td>10</td>\n",
       "      <td>城市次干道</td>\n",
       "      <td>618</td>\n",
       "      <td>6</td>\n",
       "      <td>2</td>\n",
       "    </tr>\n",
       "  </tbody>\n",
       "</table>\n",
       "</div>"
      ],
      "text/plain": [
       "                         area  count     分类  NUMS  Topic  type\n",
       "0  雄楚大道公安厅门前辅道（石牌岭西路至丁字桥螺口方向）      1  城市主干道   988     -1     3\n",
       "1                      东湖景园路段     10  城市主干道   175      6     3\n",
       "2              汉阳区四新北路红星美凯龙门口     24  城市主干道    55     -1     3\n",
       "3                风景区二环线东湖景园路段     10  城市主干道   175      6     3\n",
       "4                    紫阳东路东安路口     10  城市次干道   618      6     2"
      ]
     },
     "execution_count": 99,
     "metadata": {},
     "output_type": "execute_result"
    }
   ],
   "source": [
    "df.head()"
   ]
  },
  {
   "cell_type": "code",
   "execution_count": 96,
   "metadata": {},
   "outputs": [],
   "source": [
    "def trans_value(i):\n",
    "    if i=='城市支路':\n",
    "        result=1\n",
    "    if i=='城市次干道':\n",
    "        result=2\n",
    "    if i=='城市主干道':\n",
    "        result=3\n",
    "    if i=='高架及快速路':\n",
    "        result=4\n",
    "    return result"
   ]
  },
  {
   "cell_type": "code",
   "execution_count": 105,
   "metadata": {},
   "outputs": [
    {
     "data": {
      "text/html": [
       "<div>\n",
       "<style scoped>\n",
       "    .dataframe tbody tr th:only-of-type {\n",
       "        vertical-align: middle;\n",
       "    }\n",
       "\n",
       "    .dataframe tbody tr th {\n",
       "        vertical-align: top;\n",
       "    }\n",
       "\n",
       "    .dataframe thead th {\n",
       "        text-align: right;\n",
       "    }\n",
       "</style>\n",
       "<table border=\"1\" class=\"dataframe\">\n",
       "  <thead>\n",
       "    <tr style=\"text-align: right;\">\n",
       "      <th></th>\n",
       "      <th>area</th>\n",
       "      <th>count</th>\n",
       "      <th>分类</th>\n",
       "      <th>NUMS</th>\n",
       "      <th>type</th>\n",
       "    </tr>\n",
       "    <tr>\n",
       "      <th>Topic</th>\n",
       "      <th></th>\n",
       "      <th></th>\n",
       "      <th></th>\n",
       "      <th></th>\n",
       "      <th></th>\n",
       "    </tr>\n",
       "  </thead>\n",
       "  <tbody>\n",
       "    <tr>\n",
       "      <th>-1</th>\n",
       "      <td>49</td>\n",
       "      <td>49</td>\n",
       "      <td>49</td>\n",
       "      <td>49</td>\n",
       "      <td>49</td>\n",
       "    </tr>\n",
       "    <tr>\n",
       "      <th>0</th>\n",
       "      <td>1</td>\n",
       "      <td>1</td>\n",
       "      <td>1</td>\n",
       "      <td>1</td>\n",
       "      <td>1</td>\n",
       "    </tr>\n",
       "    <tr>\n",
       "      <th>1</th>\n",
       "      <td>1</td>\n",
       "      <td>1</td>\n",
       "      <td>1</td>\n",
       "      <td>1</td>\n",
       "      <td>1</td>\n",
       "    </tr>\n",
       "    <tr>\n",
       "      <th>2</th>\n",
       "      <td>4</td>\n",
       "      <td>4</td>\n",
       "      <td>4</td>\n",
       "      <td>4</td>\n",
       "      <td>4</td>\n",
       "    </tr>\n",
       "    <tr>\n",
       "      <th>3</th>\n",
       "      <td>1</td>\n",
       "      <td>1</td>\n",
       "      <td>1</td>\n",
       "      <td>1</td>\n",
       "      <td>1</td>\n",
       "    </tr>\n",
       "    <tr>\n",
       "      <th>4</th>\n",
       "      <td>21</td>\n",
       "      <td>21</td>\n",
       "      <td>21</td>\n",
       "      <td>21</td>\n",
       "      <td>21</td>\n",
       "    </tr>\n",
       "    <tr>\n",
       "      <th>5</th>\n",
       "      <td>13</td>\n",
       "      <td>13</td>\n",
       "      <td>13</td>\n",
       "      <td>13</td>\n",
       "      <td>13</td>\n",
       "    </tr>\n",
       "    <tr>\n",
       "      <th>6</th>\n",
       "      <td>11</td>\n",
       "      <td>11</td>\n",
       "      <td>11</td>\n",
       "      <td>11</td>\n",
       "      <td>11</td>\n",
       "    </tr>\n",
       "  </tbody>\n",
       "</table>\n",
       "</div>"
      ],
      "text/plain": [
       "       area  count  分类  NUMS  type\n",
       "Topic                             \n",
       "-1       49     49  49    49    49\n",
       " 0        1      1   1     1     1\n",
       " 1        1      1   1     1     1\n",
       " 2        4      4   4     4     4\n",
       " 3        1      1   1     1     1\n",
       " 4       21     21  21    21    21\n",
       " 5       13     13  13    13    13\n",
       " 6       11     11  11    11    11"
      ]
     },
     "execution_count": 105,
     "metadata": {},
     "output_type": "execute_result"
    }
   ],
   "source": [
    "df.groupby('Topic').count()"
   ]
  },
  {
   "cell_type": "code",
   "execution_count": 104,
   "metadata": {},
   "outputs": [],
   "source": [
    "df.to_csv('toR.csv',encoding='utf_8_sig',index=None)"
   ]
  },
  {
   "cell_type": "code",
   "execution_count": 98,
   "metadata": {},
   "outputs": [],
   "source": [
    "df['type']=df.apply(lambda x:trans_value(x['分类']),axis=1)"
   ]
  },
  {
   "cell_type": "code",
   "execution_count": 108,
   "metadata": {},
   "outputs": [],
   "source": [
    "#Water\tScenic\tUniversity\tCompany\tResidence\tPublic serv\tBusiness\n",
    "def trans_value2(i):\n",
    "    if i==-1:\n",
    "        result='Other'\n",
    "    if i==0:\n",
    "        result='Water'\n",
    "    if i==1:\n",
    "        result='Scenic'\n",
    "    if i==2:\n",
    "        result='University'\n",
    "    if i==3:\n",
    "        result='Company'\n",
    "    if i==4:\n",
    "        result='Residence'\n",
    "    if i==5:\n",
    "        result='Public Serv'\n",
    "    if i==6:\n",
    "        result='Business'\n",
    "    return result"
   ]
  },
  {
   "cell_type": "code",
   "execution_count": 109,
   "metadata": {},
   "outputs": [
    {
     "data": {
      "text/html": [
       "<div>\n",
       "<style scoped>\n",
       "    .dataframe tbody tr th:only-of-type {\n",
       "        vertical-align: middle;\n",
       "    }\n",
       "\n",
       "    .dataframe tbody tr th {\n",
       "        vertical-align: top;\n",
       "    }\n",
       "\n",
       "    .dataframe thead th {\n",
       "        text-align: right;\n",
       "    }\n",
       "</style>\n",
       "<table border=\"1\" class=\"dataframe\">\n",
       "  <thead>\n",
       "    <tr style=\"text-align: right;\">\n",
       "      <th></th>\n",
       "      <th>area</th>\n",
       "      <th>count</th>\n",
       "      <th>分类</th>\n",
       "      <th>NUMS</th>\n",
       "      <th>Topic</th>\n",
       "      <th>type</th>\n",
       "    </tr>\n",
       "  </thead>\n",
       "  <tbody>\n",
       "    <tr>\n",
       "      <th>0</th>\n",
       "      <td>雄楚大道公安厅门前辅道（石牌岭西路至丁字桥螺口方向）</td>\n",
       "      <td>1</td>\n",
       "      <td>城市主干道</td>\n",
       "      <td>988</td>\n",
       "      <td>-1</td>\n",
       "      <td>Other</td>\n",
       "    </tr>\n",
       "    <tr>\n",
       "      <th>1</th>\n",
       "      <td>东湖景园路段</td>\n",
       "      <td>10</td>\n",
       "      <td>城市主干道</td>\n",
       "      <td>175</td>\n",
       "      <td>6</td>\n",
       "      <td>Business</td>\n",
       "    </tr>\n",
       "    <tr>\n",
       "      <th>2</th>\n",
       "      <td>汉阳区四新北路红星美凯龙门口</td>\n",
       "      <td>24</td>\n",
       "      <td>城市主干道</td>\n",
       "      <td>55</td>\n",
       "      <td>-1</td>\n",
       "      <td>Other</td>\n",
       "    </tr>\n",
       "    <tr>\n",
       "      <th>3</th>\n",
       "      <td>风景区二环线东湖景园路段</td>\n",
       "      <td>10</td>\n",
       "      <td>城市主干道</td>\n",
       "      <td>175</td>\n",
       "      <td>6</td>\n",
       "      <td>Business</td>\n",
       "    </tr>\n",
       "    <tr>\n",
       "      <th>4</th>\n",
       "      <td>紫阳东路东安路口</td>\n",
       "      <td>10</td>\n",
       "      <td>城市次干道</td>\n",
       "      <td>618</td>\n",
       "      <td>6</td>\n",
       "      <td>Business</td>\n",
       "    </tr>\n",
       "  </tbody>\n",
       "</table>\n",
       "</div>"
      ],
      "text/plain": [
       "                         area  count     分类  NUMS  Topic      type\n",
       "0  雄楚大道公安厅门前辅道（石牌岭西路至丁字桥螺口方向）      1  城市主干道   988     -1     Other\n",
       "1                      东湖景园路段     10  城市主干道   175      6  Business\n",
       "2              汉阳区四新北路红星美凯龙门口     24  城市主干道    55     -1     Other\n",
       "3                风景区二环线东湖景园路段     10  城市主干道   175      6  Business\n",
       "4                    紫阳东路东安路口     10  城市次干道   618      6  Business"
      ]
     },
     "execution_count": 109,
     "metadata": {},
     "output_type": "execute_result"
    }
   ],
   "source": [
    "df['type']=df.apply(lambda x:trans_value2(x['Topic']),axis=1)\n",
    "df.head()"
   ]
  },
  {
   "cell_type": "code",
   "execution_count": 110,
   "metadata": {},
   "outputs": [],
   "source": [
    "df.to_csv('toR.csv',encoding='utf_8_sig',index=None)"
   ]
  },
  {
   "cell_type": "code",
   "execution_count": 103,
   "metadata": {},
   "outputs": [
    {
     "data": {
      "image/png": "[encoded data removed]",
      "text/plain": [
       "<Figure size 432x288 with 1 Axes>"
      ]
     },
     "metadata": {},
     "output_type": "display_data"
    }
   ],
   "source": [
    "df.boxplot(grid = True)\n",
    "import matplotlib.pyplot as plt\n",
    "plt.show()"
   ]
  },
  {
   "cell_type": "code",
   "execution_count": 73,
   "metadata": {},
   "outputs": [],
   "source": [
    "trans_list(area8)"
   ]
  },
  {
   "cell_type": "code",
   "execution_count": 7,
   "metadata": {},
   "outputs": [],
   "source": [
    "plt.style.use('ggplot')"
   ]
  },
  {
   "cell_type": "code",
   "execution_count": 8,
   "metadata": {},
   "outputs": [
    {
     "data": {
      "image/png": "[encoded data removed]",
      "text/plain": [
       "<Figure size 432x288 with 1 Axes>"
      ]
     },
     "metadata": {},
     "output_type": "display_data"
    }
   ],
   "source": [
    "# Fixing random state for reproducibility\n",
    "np.random.seed(19680801)\n",
    "N = 10\n",
    "x = np.random.rand(N)\n",
    "y = np.random.rand(N)\n",
    "x2 = np.random.rand(N)\n",
    "y2 = np.random.rand(N)\n",
    "x3 = np.random.rand(N)\n",
    "y3 = np.random.rand(N)\n",
    "area = np.random.rand(N) * 1000\n",
    "fig = plt.figure()\n",
    "ax = plt.subplot()\n",
    "\n",
    "ax.scatter(x, y, s=area, alpha=0.5)\n",
    "ax.scatter(x2, y2, s=area, c='green', alpha=0.6)\n",
    "ax.scatter(x3, y3, s=area, c=area, marker='v', cmap='Reds', alpha=0.7)  # 更换标记样式，另一种颜色的样式\n",
    "plt.show()"
   ]
  }
 ],
 "metadata": {
  "kernelspec": {
   "display_name": "Python 3",
   "language": "python",
   "name": "python3"
  },
  "language_info": {
   "codemirror_mode": {
    "name": "ipython",
    "version": 3
   },
   "file_extension": ".py",
   "mimetype": "text/x-python",
   "name": "python",
   "nbconvert_exporter": "python",
   "pygments_lexer": "ipython3",
   "version": "3.8.3"
  }
 },
 "nbformat": 4,
 "nbformat_minor": 4
}
